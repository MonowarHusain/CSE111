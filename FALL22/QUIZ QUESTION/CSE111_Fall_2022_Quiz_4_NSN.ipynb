{
  "nbformat": 4,
  "nbformat_minor": 0,
  "metadata": {
    "colab": {
      "provenance": [],
      "authorship_tag": "ABX9TyNVs8AK0yaR0ZenY9vafYN7"
    },
    "kernelspec": {
      "name": "python3",
      "display_name": "Python 3"
    },
    "language_info": {
      "name": "python"
    }
  },
  "cells": [
    {
      "cell_type": "code",
      "execution_count": null,
      "metadata": {
        "colab": {
          "base_uri": "https://localhost:8080/"
        },
        "id": "kc3bSfks6har",
        "outputId": "fac8fdb2-fc34-46a8-927a-b2fe37a7e739"
      },
      "outputs": [
        {
          "output_type": "stream",
          "name": "stdout",
          "text": [
            "0 -9 6\n",
            "-5 3 9\n",
            "0 -9 12\n"
          ]
        }
      ],
      "source": [
        "#tracing\n",
        "class A:\n",
        "    temp = -5\n",
        "    def __init__(self):\n",
        "        self.sum = 0\n",
        "        self.y = 2\n",
        "        self.temp -= 2\n",
        "    def methodA(self,m,n):\n",
        "        x = 1\n",
        "        A.temp+=1\n",
        "        x = x + n\n",
        "        self.sum = self.sum + self.y\n",
        "        print(f\"{x+A.temp} {self.temp} {self.sum}\")\n",
        "class B(A):\n",
        "   x = -10\n",
        "   def __init__(self, b = None):\n",
        "        super().__init__()\n",
        "        if b == None:\n",
        "          self.y = 3\n",
        "          self.sum = 3\n",
        "          self.temp -= 2\n",
        "        else:\n",
        "          self.sum = b.sum\n",
        "          B.x = b.x\n",
        "          b.methodB(b.x,0)\n",
        "\n",
        "   def methodB(self, m, n):\n",
        "         y = 3\n",
        "         self.methodA(B.x, y)\n",
        "         self.sum = y + self.sum\n",
        "         print(f\"{B.x//2} {y} {self.sum}\")\n",
        "a1 = A()\n",
        "b1 = B()\n",
        "b2 = B(b1)\n",
        "b1.methodA(3,2)\n"
      ]
    },
    {
      "cell_type": "code",
      "source": [
        "#code\n",
        "class Person:\n",
        "    count = 0\n",
        "    def __init__(self, name):\n",
        "        self.name = name\n",
        "\n",
        "    def add_skill(self, *args):\n",
        "        print(f\"{self.name} is adding skills.\")\n",
        "\n",
        "    def details(self):\n",
        "        return f\"Name: {self.name}\"\n",
        "\n",
        "# Write your code here\n",
        "class CSEEngineer(Person):\n",
        "    def __init__(self,name,country,dept):\n",
        "        Person.count+=1\n",
        "        super().__init__(name)\n",
        "        self.country = country\n",
        "        self.dept = dept\n",
        "        self.skill = []\n",
        "    def add_skill(self,*arg):\n",
        "        super().add_skill()\n",
        "        self.skill = arg\n",
        "        print(f'{self.name} has added skills')\n",
        "    def details(self):\n",
        "        print(super().details())\n",
        "        print(f'Country: {self.country}\\nDepartment: {self.dept}')\n",
        "        if len(self.skill) == 0:\n",
        "            return f'No skill addedd yet'\n",
        "        else:\n",
        "            return f'Skills: {list(self.skill)}'\n",
        "\n",
        "print(\"Total Person:\", Person.count)\n",
        "print(\"1=================\")\n",
        "iron_man = CSEEngineer(\"Tony\", \"USA\", \"Software Developer\")\n",
        "print(iron_man.details())\n",
        "print(\"2=================\")\n",
        "iron_man.add_skill(\"Java\", \"Python\", \"Machine Learning\")\n",
        "print(\"3=================\")\n",
        "print(iron_man.details())\n",
        "print(\"4=================\")\n",
        "naruto = CSEEngineer(\"Naruto\", \"Japan\", \"Mobile Developer\")\n",
        "naruto.add_skill(\"Flutter\", \"Firebase\")\n",
        "print(\"5=================\")\n",
        "print(naruto.details())\n",
        "print(\"6=================\")\n",
        "print(iron_man.details())\n",
        "print(\"7=================\")\n",
        "print(\"Total Person:\", Person.count)\n",
        "\n"
      ],
      "metadata": {
        "colab": {
          "base_uri": "https://localhost:8080/"
        },
        "id": "yH6Fvl2G6pKQ",
        "outputId": "4e77513a-49b7-4b30-b2de-a4acfb442fef"
      },
      "execution_count": null,
      "outputs": [
        {
          "output_type": "stream",
          "name": "stdout",
          "text": [
            "Total Person: 0\n",
            "1=================\n",
            "Name: Tony\n",
            "Country: USA\n",
            "Department: Software Developer\n",
            "No skill addedd yet\n",
            "2=================\n",
            "Tony is adding skills.\n",
            "Tony has added skills\n",
            "3=================\n",
            "Name: Tony\n",
            "Country: USA\n",
            "Department: Software Developer\n",
            "Skills: ['Java', 'Python', 'Machine Learning']\n",
            "4=================\n",
            "Naruto is adding skills.\n",
            "Naruto has added skills\n",
            "5=================\n",
            "Name: Naruto\n",
            "Country: Japan\n",
            "Department: Mobile Developer\n",
            "Skills: ['Flutter', 'Firebase']\n",
            "6=================\n",
            "Name: Tony\n",
            "Country: USA\n",
            "Department: Software Developer\n",
            "Skills: ['Java', 'Python', 'Machine Learning']\n",
            "7=================\n",
            "Total Person: 2\n"
          ]
        }
      ]
    }
  ]
}
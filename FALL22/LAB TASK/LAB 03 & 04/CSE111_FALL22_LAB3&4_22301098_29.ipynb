{
  "nbformat": 4,
  "nbformat_minor": 0,
  "metadata": {
    "colab": {
      "provenance": [],
      "authorship_tag": "ABX9TyN+J/ZDc3MSwt3HYOkuIVeE"
    },
    "kernelspec": {
      "name": "python3",
      "display_name": "Python 3"
    },
    "language_info": {
      "name": "python"
    }
  },
  "cells": [
    {
      "cell_type": "code",
      "source": [
        "#task01  okk\n",
        "class Patient:\n",
        "    def __init__(self,name,age,weight,height):\n",
        "        self.name = name\n",
        "        self.age = age\n",
        "        self.weight = weight\n",
        "        self.height = height\n",
        "        self.BMI = self.weight/(self.height/100)**2\n",
        "    def printDetails(self):\n",
        "        print('Name: ',self.name)\n",
        "        print('Age:',self.age)\n",
        "        print('Weight:',self.weight )\n",
        "        print('Height:',self.height )\n",
        "        print(\"BMI:\", self.BMI)\n",
        "p1 = Patient(\"A\", 55, 63.0, 158.0)\n",
        "p1.printDetails()\n",
        "print(\"====================\")\n",
        "p2 = Patient(\"B\", 53, 61.0, 149.0)\n",
        "p2.printDetails()"
      ],
      "metadata": {
        "colab": {
          "base_uri": "https://localhost:8080/"
        },
        "id": "JXRF5W7dDw8p",
        "outputId": "271632ae-1fda-4993-87ee-73e9bea32e63"
      },
      "execution_count": null,
      "outputs": [
        {
          "output_type": "stream",
          "name": "stdout",
          "text": [
            "Name:  A\n",
            "Age: 55\n",
            "Weight: 63.0\n",
            "Height: 158.0\n",
            "BMI: 25.236340330075304\n",
            "====================\n",
            "Name:  B\n",
            "Age: 53\n",
            "Weight: 61.0\n",
            "Height: 149.0\n",
            "BMI: 27.476239809017613\n"
          ]
        }
      ]
    },
    {
      "cell_type": "code",
      "source": [
        "#task 02  okk\n",
        "class Shape:\n",
        "    def __init__(self,name,x,y):\n",
        "        self.name = name\n",
        "        self.x = x\n",
        "        self.y = y\n",
        "    def area(self):\n",
        "        if self.name == \"Triangle\":\n",
        "            self.area = 0.5* self.x * self.y\n",
        "            print('Area:',self.area)\n",
        "        elif self.name == \"Square\":\n",
        "            self.area = self.x * self.y\n",
        "            print(self.area)\n",
        "        elif self.name == \"Rectangle\":\n",
        "            self.area = self.x * self.y\n",
        "            print(self.area)\n",
        "        elif self.name == \"Rhombus\":\n",
        "            self.area = ((self.x * self.y)/2)\n",
        "            print(self.area)\n",
        "        else:\n",
        "            print('Area: Shape unknown')\n",
        "triangle = Shape(\"Triangle\",10,25)\n",
        "triangle.area()\n",
        "print(\"==========================\")\n",
        "square = Shape(\"Square\",10,10)\n",
        "square.area()\n",
        "print(\"==========================\")\n",
        "rhombus = Shape(\"Rhombus\",18,25)\n",
        "rhombus.area()\n",
        "print(\"==========================\")\n",
        "rectangle = Shape(\"Rectangle\",15,30)\n",
        "rectangle.area()\n",
        "print(\"==========================\")\n",
        "trapezium = Shape(\"Trapezium\",15,30)\n",
        "trapezium.area()"
      ],
      "metadata": {
        "colab": {
          "base_uri": "https://localhost:8080/"
        },
        "id": "bE3h8lbYFMgC",
        "outputId": "659a08d2-5cc9-4e37-a60a-a2fd81cb1e8f"
      },
      "execution_count": null,
      "outputs": [
        {
          "output_type": "stream",
          "name": "stdout",
          "text": [
            "Area: 125.0\n",
            "==========================\n",
            "100\n",
            "==========================\n",
            "225.0\n",
            "==========================\n",
            "450\n",
            "==========================\n",
            "Area: Shape unknown\n"
          ]
        }
      ]
    },
    {
      "cell_type": "code",
      "source": [
        "#task 03\n",
        "class Calculator:\n",
        "    def __init__(self):\n",
        "        print('Calculator is ready!')\n",
        "    def calculate(self,x,y,z):\n",
        "        self.x = x\n",
        "        self.y = y\n",
        "        self.z = z\n",
        "        if self.z == '+':\n",
        "            val = self.x+self.y\n",
        "            return val\n",
        "            #val = self.val\n",
        "        if self.z == '-':\n",
        "            val = self.x - self.y\n",
        "            return val\n",
        "        if self.z == '*':\n",
        "            val = self.x*self.y\n",
        "            return val\n",
        "        if self.z == '/':\n",
        "            val = self.x/self.y\n",
        "            return val\n",
        "    def showCalculation(self):\n",
        "        print(f\"{self.x} {self.z} {self.y} = {self.calculate(self.x, self.y, self.z)}\")\n",
        "  c1 = Calculator()\n",
        "print(\"==================\")\n",
        "val = c1.calculate(10, 20, '+')\n",
        "print(\"Returned value:\", val)\n",
        "c1.showCalculation()\n",
        "print(\"==================\")\n",
        "val = c1.calculate(val, 10, '-')\n",
        "print(\"Returned value:\", val)\n",
        "c1.showCalculation()\n",
        "print(\"==================\")\n",
        "val = c1.calculate(val, 5, '*')\n",
        "print(\"Returned value:\", val)\n",
        "c1.showCalculation()\n",
        "print(\"==================\")\n",
        "val = c1.calculate(val, 16, '/')\n",
        "print(\"Returned value:\", val)\n",
        "c1.showCalculation()"
      ],
      "metadata": {
        "colab": {
          "base_uri": "https://localhost:8080/"
        },
        "id": "IgSIbPl_F53Q",
        "outputId": "d235485d-ab6e-4cba-832c-f2fcd76efe09"
      },
      "execution_count": null,
      "outputs": [
        {
          "output_type": "stream",
          "name": "stdout",
          "text": [
            "Calculator is ready!\n",
            "==================\n",
            "Returned value: 30\n",
            "10 + 20 = 30\n",
            "==================\n",
            "Returned value: 20\n",
            "30 - 10 = 20\n",
            "==================\n",
            "Returned value: 100\n",
            "20 * 5 = 100\n",
            "==================\n",
            "Returned value: 6.25\n",
            "100 / 16 = 6.25\n"
          ]
        }
      ]
    },
    {
      "cell_type": "code",
      "source": [
        "#task04 okk\n",
        "class Programmer:\n",
        "    def __init__(self,x,y,z):\n",
        "        self.x=x\n",
        "        self.y=y\n",
        "        self.z=z\n",
        "        self.v = 'Horray! A new programmer is born'\n",
        "    def printDetails(self):\n",
        "        print(self.v)\n",
        "        print('Name:',self.x)\n",
        "        print('Language:',self.y)\n",
        "        print('Experience:',self.z,'years')\n",
        "    def addExp(self,z):\n",
        "        self.v = 'Updating experience of Jon Snow'\n",
        "        self.z=z\n",
        "p1 = Programmer(\"Ethen Hunt\", \"Java\", 10)\n",
        "p1.printDetails()\n",
        "print('--------------------------')\n",
        "p2 = Programmer(\"James Bond\", \"C++\", 7)\n",
        "p2.printDetails()\n",
        "print('--------------------------')\n",
        "p3 = Programmer(\"Jon Snow\", \"Python\", 4)\n",
        "p3.printDetails()\n",
        "p3.addExp(5)\n",
        "p3.printDetails()"
      ],
      "metadata": {
        "colab": {
          "base_uri": "https://localhost:8080/"
        },
        "id": "KmNkmqsvJPf0",
        "outputId": "e6b1651a-9334-4faf-f1a9-b92c2c09c32c"
      },
      "execution_count": null,
      "outputs": [
        {
          "output_type": "stream",
          "name": "stdout",
          "text": [
            "Horray! A new programmer is born\n",
            "Name: Ethen Hunt\n",
            "Language: Java\n",
            "Experience: 10 years\n",
            "--------------------------\n",
            "Horray! A new programmer is born\n",
            "Name: James Bond\n",
            "Language: C++\n",
            "Experience: 7 years\n",
            "--------------------------\n",
            "Horray! A new programmer is born\n",
            "Name: Jon Snow\n",
            "Language: Python\n",
            "Experience: 4 years\n",
            "Updating experience of Jon Snow\n",
            "Name: Jon Snow\n",
            "Language: Python\n",
            "Experience: 5 years\n"
          ]
        }
      ]
    },
    {
      "cell_type": "code",
      "source": [
        "#task05  okk\n",
        "class UberEats:\n",
        "    def __init__(self,name,mobile,location):\n",
        "        self.name = name\n",
        "        self.mobile = mobile\n",
        "        self.location = location\n",
        "        print(f'{self.name},welcome to UberEats!')\n",
        "    def add_items(self,m1,m2,p1,p2):\n",
        "        self.m1 = m1\n",
        "        self.m2 = m2\n",
        "        self.p1 = p1\n",
        "        self.p2 = p2\n",
        "        self.d={}\n",
        "        self.d[m1] = p1\n",
        "        self.d[m2] = p2\n",
        "    def print_order_detail(self):\n",
        "        print(f'User details: Name: {self.name}, Phone:\\n{self.mobile}, Address: {self.location}')\n",
        "        print('Orders:',self.d)\n",
        "        print('Total Paid Amount:',self.p1+self.p2)\n",
        "order1 = UberEats(\"Shakib\", \"01719658xxx\", \"Mohakhali\")\n",
        "print(\"=========================\")\n",
        "order1.add_items(\"Burger\", \"Coca Cola\", 220, 50)\n",
        "print(\"=========================\")\n",
        "print(order1.print_order_detail())\n",
        "print(\"=========================\")\n",
        "order2 = UberEats (\"Siam\", \"01719659xxx\", \"Uttara\")\n",
        "print(\"=========================\")\n",
        "order2.add_items(\"Pineapple\", \"Dairy Milk\", 80, 70)\n",
        "print(\"=========================\")\n",
        "print(order2.print_order_detail())"
      ],
      "metadata": {
        "colab": {
          "base_uri": "https://localhost:8080/"
        },
        "id": "NVLQe1qGLLtd",
        "outputId": "20f15bd0-7c49-4d3e-cadd-0bd75fb23150"
      },
      "execution_count": null,
      "outputs": [
        {
          "output_type": "stream",
          "name": "stdout",
          "text": [
            "Shakib,welcome to UberEats!\n",
            "=========================\n",
            "=========================\n",
            "User details: Name: Shakib, Phone:\n",
            "01719658xxx, Address: Mohakhali\n",
            "Orders: {'Burger': 220, 'Coca Cola': 50}\n",
            "Total Paid Amount: 270\n",
            "None\n",
            "=========================\n",
            "Siam,welcome to UberEats!\n",
            "=========================\n",
            "=========================\n",
            "User details: Name: Siam, Phone:\n",
            "01719659xxx, Address: Uttara\n",
            "Orders: {'Pineapple': 80, 'Dairy Milk': 70}\n",
            "Total Paid Amount: 150\n",
            "None\n"
          ]
        }
      ]
    },
    {
      "cell_type": "code",
      "execution_count": null,
      "metadata": {
        "colab": {
          "base_uri": "https://localhost:8080/"
        },
        "id": "OF9DZZ4UsSyJ",
        "outputId": "929d59d4-c5fb-4753-a1db-989f6a9efc1b"
      },
      "outputs": [
        {
          "output_type": "stream",
          "name": "stdout",
          "text": [
            "Hello!\n",
            "Sam, you purchased 3 item(s):\n",
            "chips\n",
            "chocolate\n",
            "orange juice\n",
            "-----------------------------\n",
            "Hello!,self.name\n",
            "David, you purchased 1 item(s):\n",
            "orange juice\n"
          ]
        }
      ],
      "source": [
        "#Task 6 okk\n",
        "class Customer:\n",
        "    def __init__(self,name):\n",
        "        self.name = name\n",
        "    def greet(self,name=None):\n",
        "        if name == None:\n",
        "            print('Hello!')\n",
        "        else:\n",
        "            print(f'Hello!,self.name')\n",
        "    def purchase(self,*products):\n",
        "        print(f'{self.name}, you purchased {len(products)} item(s):')\n",
        "        for i in products:\n",
        "            print(i)\n",
        "customer_1 = Customer(\"Sam\")\n",
        "customer_1.greet()\n",
        "customer_1.purchase(\"chips\", \"chocolate\", \"orange juice\")\n",
        "print(\"-----------------------------\")\n",
        "customer_2 = Customer(\"David\")\n",
        "customer_2.greet(\"David\")\n",
        "customer_2.purchase(\"orange juice\")"
      ]
    },
    {
      "cell_type": "code",
      "source": [
        "#task07 okk\n",
        "class Cat:\n",
        "    def __init__(self,name='White',t='sitting'):\n",
        "        self.name = name\n",
        "        self.t=t\n",
        "    def printCat(self):\n",
        "        print(f'{self.name} cat is {self.t}')\n",
        "    def changeColor(self,x):\n",
        "        self.name = x\n",
        "c1 = Cat()\n",
        "c2 = Cat(\"Black\")\n",
        "c3 = Cat(\"Brown\", \"jumping\")\n",
        "c4 = Cat(\"Red\", \"purring\")\n",
        "c1.printCat()\n",
        "c2.printCat()\n",
        "c3.printCat()\n",
        "c4.printCat()\n",
        "c1.changeColor(\"Blue\")\n",
        "c3.changeColor(\"Purple\")\n",
        "c1.printCat()\n",
        "c3.printCat()"
      ],
      "metadata": {
        "colab": {
          "base_uri": "https://localhost:8080/"
        },
        "id": "5bNf-S8H0NG0",
        "outputId": "9a77218a-0774-4495-81ad-bc4d48a2ef29"
      },
      "execution_count": null,
      "outputs": [
        {
          "output_type": "stream",
          "name": "stdout",
          "text": [
            "White cat is sitting\n",
            "Black cat is sitting\n",
            "Brown cat is jumping\n",
            "Red cat is purring\n",
            "Blue cat is sitting\n",
            "Purple cat is jumping\n"
          ]
        }
      ]
    },
    {
      "cell_type": "code",
      "source": [
        "#task08 okk\n",
        "class Student:\n",
        "    def __init__(self,*n):\n",
        "        if len(n) == 3:\n",
        "            self.name = n[0]\n",
        "            self.id = n[1]\n",
        "            self.dept = n[2]\n",
        "        elif len(n) == 2:\n",
        "            self.name = n[0]\n",
        "            self.id = n[1]\n",
        "            self.dept = 'CSE'\n",
        "    def dailyEffort(self,x):\n",
        "        self.df = x\n",
        "    def printDetails(self):\n",
        "        print('Name:',self.name)\n",
        "        print('ID:',self.id)\n",
        "        print('Department:',self.dept)\n",
        "        print('Daily Effort:', self.df,'hour(s)')\n",
        "        if self.df <=2:\n",
        "            print('Suggestion: Should give more effort!')\n",
        "        elif self.df <= 4:\n",
        "            print('Suggestion: Keep up the good work!')\n",
        "        else:\n",
        "            print('Suggestion: Excellent! Now motivate others.')\n",
        "harry = Student('Harry Potter', 123)\n",
        "harry.dailyEffort(3)\n",
        "harry.printDetails()\n",
        "print('========================')\n",
        "john = Student(\"John Wick\", 456, \"BBA\")\n",
        "john.dailyEffort(2)\n",
        "john.printDetails()\n",
        "print('========================')\n",
        "naruto = Student(\"Naruto Uzumaki\", 777, \"Ninja\")\n",
        "naruto.dailyEffort(6)\n",
        "naruto.printDetails()"
      ],
      "metadata": {
        "colab": {
          "base_uri": "https://localhost:8080/"
        },
        "id": "-xVO1VY6QQM2",
        "outputId": "ff1f5835-b563-4913-f792-e320cb567ce9"
      },
      "execution_count": null,
      "outputs": [
        {
          "output_type": "stream",
          "name": "stdout",
          "text": [
            "Name: Harry Potter\n",
            "ID: 123\n",
            "Department: CSE\n",
            "Daily Effort: 3 hour(s)\n",
            "Suggestion: Keep up the good work!\n",
            "========================\n",
            "Name: John Wick\n",
            "ID: 456\n",
            "Department: BBA\n",
            "Daily Effort: 2 hour(s)\n",
            "Suggestion: Should give more effort!\n",
            "========================\n",
            "Name: Naruto Uzumaki\n",
            "ID: 777\n",
            "Department: Ninja\n",
            "Daily Effort: 6 hour(s)\n",
            "Suggestion: Excellent! Now motivate others.\n"
          ]
        }
      ]
    },
    {
      "cell_type": "code",
      "source": [
        "#task09   okk\n",
        "class Batsman:\n",
        "    def __init__(self,*x):\n",
        "        if type(x[0])!=str and len(x)==2:\n",
        "            self.name = 'New Batsman'\n",
        "            self.rs = x[0]\n",
        "            self.bf = x[1]\n",
        "        if type(x[0])==str and len(x)==3:\n",
        "            self.name = x[0]\n",
        "            self.rs = x[1]\n",
        "            self.bf = x[2]\n",
        "        if type(x[0])==str and len(x)==1:\n",
        "            self.name = x[0]\n",
        "    def printCareerStatistics(self):\n",
        "        print('Name:',self.name)\n",
        "        print('Runs Scored:',self.rs,'Balls Faced:',self.bf)\n",
        "    def battingStrikeRate(self):\n",
        "        self.bsr = (self.rs/self.bf)*100\n",
        "        return self.bsr\n",
        "    def setName(self,name):\n",
        "        self.name=name\n",
        "b1 = Batsman(6101, 7380)\n",
        "b1.printCareerStatistics()\n",
        "print(\"============================\")\n",
        "b2 = Batsman(\"Liton Das\",678, 773)\n",
        "b2.printCareerStatistics()\n",
        "print(\"----------------------------\")\n",
        "print(b2.battingStrikeRate())\n",
        "print(\"============================\")\n",
        "b1.setName(\"Shakib Al Hasan\")\n",
        "b1.printCareerStatistics()\n",
        "print(\"----------------------------\")\n",
        "print(b1.battingStrikeRate())"
      ],
      "metadata": {
        "colab": {
          "base_uri": "https://localhost:8080/"
        },
        "id": "cILQcXh-9tu9",
        "outputId": "7b1a4051-4bad-40c2-bcc8-d23c764d721b"
      },
      "execution_count": null,
      "outputs": [
        {
          "output_type": "stream",
          "name": "stdout",
          "text": [
            "Name: New Batsman\n",
            "Runs Scored: 6101 Balls Faced: 7380\n",
            "============================\n",
            "Name: Liton Das\n",
            "Runs Scored: 678 Balls Faced: 773\n",
            "----------------------------\n",
            "87.71021992238033\n",
            "============================\n",
            "Name: Shakib Al Hasan\n",
            "Runs Scored: 6101 Balls Faced: 7380\n",
            "----------------------------\n",
            "82.66937669376694\n"
          ]
        }
      ]
    },
    {
      "cell_type": "code",
      "source": [
        "#task10  okk\n",
        "class Author:\n",
        "    def __init__(self,name='Default',*books):\n",
        "        self.name = name\n",
        "        self.books = books\n",
        "    def addBooks(self,*books):\n",
        "        self.books = books\n",
        "    def changeName(self,name):\n",
        "        self.name = name\n",
        "    def printDetails(self):\n",
        "        print('Author Name:',self.name)\n",
        "        print('--------')\n",
        "        for i in self.books:\n",
        "            print(i)\n",
        "auth1 = Author('Humayun Ahmed')\n",
        "auth1.addBooks('Deyal', 'Megher Opor Bari')\n",
        "auth1.printDetails()\n",
        "print(\"===================\")\n",
        "auth2 = Author()\n",
        "print(auth2.name)\n",
        "auth2.changeName('Mario Puzo')\n",
        "auth2.addBooks('The Godfather', 'Omerta', 'The Sicilian')\n",
        "print(\"===================\")\n",
        "auth2.printDetails()\n",
        "print(\"===================\")\n",
        "auth3 = Author('Paolo Coelho', 'The Alchemist', 'The Fifth Mountain')\n",
        "auth3.printDetails()"
      ],
      "metadata": {
        "colab": {
          "base_uri": "https://localhost:8080/"
        },
        "id": "TjbIV2rj5nsx",
        "outputId": "a682b491-374d-43e0-d972-7e17bd2875b7"
      },
      "execution_count": null,
      "outputs": [
        {
          "output_type": "stream",
          "name": "stdout",
          "text": [
            "Author Name: Humayun Ahmed\n",
            "--------\n",
            "Deyal\n",
            "Megher Opor Bari\n",
            "===================\n",
            "Default\n",
            "===================\n",
            "Author Name: Mario Puzo\n",
            "--------\n",
            "The Godfather\n",
            "Omerta\n",
            "The Sicilian\n",
            "===================\n",
            "Author Name: Paolo Coelho\n",
            "--------\n",
            "The Alchemist\n",
            "The Fifth Mountain\n"
          ]
        }
      ]
    },
    {
      "cell_type": "code",
      "source": [
        "#task 11\n",
        "class TaxiLagbe:\n",
        "    def __init__(self, number, loc):\n",
        "        self.number = number\n",
        "        self.area = loc\n",
        "        self.passenger_list = {}\n",
        "    def addPassenger(self, *passengers):\n",
        "\n",
        "        self.count = 0\n",
        "        for key in self.passenger_list.keys():\n",
        "            self.count = self.count + 1\n",
        "        #print(self.passenger_list)\n",
        "        if self.count < 4:\n",
        "            for i in passengers:\n",
        "                list1 = []\n",
        "                list1 = i.split(\"_\")\n",
        "                self.passenger_list[list1[0]] = int(list1[1])\n",
        "                print(f\"Dear {list1[0]}! Welcome to TaxiLagbe\")\n",
        "            for keys in self.passenger_list.keys():\n",
        "                pass\n",
        "        else:\n",
        "            print('Taxi Full! No more passengers can be added.')\n",
        "    def printDetails(self):\n",
        "        print(f'Trip info for Taxi number:{self.number}')\n",
        "        print(f\"This taxi can cover only {self.area} area.\")\n",
        "        self.counter = 0\n",
        "        for i in self.passenger_list.keys():\n",
        "            self.counter = self.counter + 1\n",
        "        print(f\"Total passengers: {self.counter}\")\n",
        "        self.fare = 0\n",
        "        self.list0 = []\n",
        "        for key, value in self.passenger_list.items():\n",
        "            self.fare = (self.fare) + int(value)\n",
        "            self.list0.append(key)\n",
        "        me = 0\n",
        "        print(\"Passengers list: \")\n",
        "        for i in self.list0:\n",
        "            me = me + 1\n",
        "            if me != len(self.list0):\n",
        "                print(i, end=', ')\n",
        "            else:\n",
        "                print(i, end= '')\n",
        "        print('')\n",
        "        print(f\"Total collected fare: {self.fare} taka\")\n",
        "taxi1 = TaxiLagbe('1010-01', 'Dhaka')\n",
        "print('-------------------------------')\n",
        "taxi1.addPassenger('Walker_100', 'Wood_200')\n",
        "taxi1.addPassenger('Matt_100')\n",
        "taxi1.addPassenger('Wilson_105')\n",
        "print('-------------------------------')\n",
        "taxi1.printDetails()\n",
        "print('-------------------------------')\n",
        "taxi1.addPassenger('Karen_200')\n",
        "print('-------------------------------')\n",
        "taxi1.printDetails()\n",
        "print('-------------------------------')\n",
        "taxi2 = TaxiLagbe('1010-02', 'Khulna')\n",
        "taxi2.addPassenger('Ronald_115')\n",
        "taxi2.addPassenger('Parker_215')\n",
        "print('-------------------------------')\n",
        "taxi2.printDetails()"
      ],
      "metadata": {
        "colab": {
          "base_uri": "https://localhost:8080/"
        },
        "id": "sTlluieTCB8p",
        "outputId": "7ef7863a-6616-4b14-9b81-011190ab69be"
      },
      "execution_count": null,
      "outputs": [
        {
          "output_type": "stream",
          "name": "stdout",
          "text": [
            "-------------------------------\n",
            "Dear Walker! Welcome to TaxiLagbe\n",
            "Dear Wood! Welcome to TaxiLagbe\n",
            "Dear Matt! Welcome to TaxiLagbe\n",
            "Dear Wilson! Welcome to TaxiLagbe\n",
            "-------------------------------\n",
            "Trip info for Taxi number:1010-01\n",
            "This taxi can cover only Dhaka area.\n",
            "Total passengers: 4\n",
            "Passengers list: \n",
            "Walker, Wood, Matt, Wilson\n",
            "Total collected fare: 505 taka\n",
            "-------------------------------\n",
            "Taxi Full! No more passengers can be added.\n",
            "-------------------------------\n",
            "Trip info for Taxi number:1010-01\n",
            "This taxi can cover only Dhaka area.\n",
            "Total passengers: 4\n",
            "Passengers list: \n",
            "Walker, Wood, Matt, Wilson\n",
            "Total collected fare: 505 taka\n",
            "-------------------------------\n",
            "Dear Ronald! Welcome to TaxiLagbe\n",
            "Dear Parker! Welcome to TaxiLagbe\n",
            "-------------------------------\n",
            "Trip info for Taxi number:1010-02\n",
            "This taxi can cover only Khulna area.\n",
            "Total passengers: 2\n",
            "Passengers list: \n",
            "Ronald, Parker\n",
            "Total collected fare: 330 taka\n"
          ]
        }
      ]
    },
    {
      "cell_type": "code",
      "source": [
        "#task12  okk\n",
        "class Account:\n",
        "    def __init__(self,name = 'Default Account',balance = 0.0):\n",
        "        self.name = name\n",
        "        self.balance = balance\n",
        "    def details(self):\n",
        "        return (f\"{self.name}\\n{self.balance}\")\n",
        "    def withdraw(self,x):\n",
        "        self.x = x\n",
        "        if self.x>= self.balance or (self.balance-self.x)<=3070:\n",
        "            print('Sorry, Withdraw unsuccessful! The account balance after deducting withdraw amount is equal to or less than minimum.')\n",
        "        else:\n",
        "            print(f'Withdraw successful! New balance is:\\n{self.balance-self.x}')\n",
        "a1 = Account()\n",
        "print(a1.details())\n",
        "print(\"------------------------\")\n",
        "a1.name = \"Oliver\"\n",
        "a1.balance = 10000.0\n",
        "print(a1.details())\n",
        "print(\"------------------------\")\n",
        "a2 = Account(\"Liam\")\n",
        "print(a2.details())\n",
        "print(\"------------------------\")\n",
        "a3 = Account(\"Noah\",400)\n",
        "print(a3.details())\n",
        "print(\"------------------------\")\n",
        "a1.withdraw(6930)\n",
        "print(\"------------------------\")\n",
        "a2.withdraw(600)\n",
        "print(\"------------------------\")\n",
        "a1.withdraw(6929)"
      ],
      "metadata": {
        "colab": {
          "base_uri": "https://localhost:8080/"
        },
        "id": "Ze4chJkmTNkY",
        "outputId": "b22248fa-e275-4234-fd88-5ab11dac568e"
      },
      "execution_count": null,
      "outputs": [
        {
          "output_type": "stream",
          "name": "stdout",
          "text": [
            "Default Account\n",
            "0.0\n",
            "------------------------\n",
            "Oliver\n",
            "10000.0\n",
            "------------------------\n",
            "Liam\n",
            "0.0\n",
            "------------------------\n",
            "Noah\n",
            "400\n",
            "------------------------\n",
            "Sorry, Withdraw unsuccessful! The account balance after deducting withdraw amount is equal to or less than minimum.\n",
            "------------------------\n",
            "Sorry, Withdraw unsuccessful! The account balance after deducting withdraw amount is equal to or less than minimum.\n",
            "------------------------\n",
            "Withdraw successful! New balance is:\n",
            "3071.0\n"
          ]
        }
      ]
    },
    {
      "cell_type": "code",
      "source": [
        "#task 13 okk\n",
        "class StudentDatabase:\n",
        "    def __init__(self,name,id):\n",
        "        self.name = name\n",
        "        self.id = id\n",
        "        self.d = {}\n",
        "        self.grades = {}\n",
        "    def calculateGPA(self,lst,sem):\n",
        "        self.lst = lst\n",
        "        self.sem = sem\n",
        "        self.tup = []\n",
        "        self.cg = 0.0\n",
        "        for i in self.lst:\n",
        "            self.m,self.n=i.split(':')\n",
        "            self.tup.append(self.m)\n",
        "            self.cg+=float(self.n)\n",
        "        self.d[tuple(self.tup)] = self.cg/len(self.lst)\n",
        "        self.grades[self.sem] = self.d\n",
        "    def printDetails(self):\n",
        "        print('Name: ', self.name)\n",
        "        print('ID: ', self.id)\n",
        "        for key, value in self.grades.items():\n",
        "             print(f\"Courses taken in {key} :\")\n",
        "             for i,j in value.items():\n",
        "                 for k in i:\n",
        "                     print(k)\n",
        "                 print(f\"GPA: {j}\")\n",
        "s1 = StudentDatabase('Pietro', '10101222')\n",
        "s1.calculateGPA(['CSE230: 4.0', 'CSE220: 4.0', 'MAT110: 4.0'],\n",
        "'Summer2020')\n",
        "s1.calculateGPA(['CSE250: 3.7', 'CSE330: 4.0'], 'Summer2021')\n",
        "print(f'Grades for {s1.name}\\n{s1.grades}')\n",
        "print('------------------------------------------------------')\n",
        "s1.printDetails()\n",
        "s2 = StudentDatabase('Wanda', '10103332')\n",
        "s2.calculateGPA(['CSE111: 3.7', 'CSE260: 3.7', 'ENG101: 4.0'],\n",
        "'Summer2022')\n",
        "print('------------------------------------------------------')\n",
        "print(f'Grades for {s2.name}\\n{s2.grades}')\n",
        "print('------------------------------------------------------')\n",
        "s2.printDetails()"
      ],
      "metadata": {
        "colab": {
          "base_uri": "https://localhost:8080/"
        },
        "id": "mEzS2jg_kBEC",
        "outputId": "757b8847-a170-4fa2-a43e-102812e07444"
      },
      "execution_count": null,
      "outputs": [
        {
          "output_type": "stream",
          "name": "stdout",
          "text": [
            "Grades for Pietro\n",
            "{'Summer2020': {('CSE230', 'CSE220', 'MAT110'): 4.0, ('CSE250', 'CSE330'): 3.85}, 'Summer2021': {('CSE230', 'CSE220', 'MAT110'): 4.0, ('CSE250', 'CSE330'): 3.85}}\n",
            "------------------------------------------------------\n",
            "Name:  Pietro\n",
            "ID:  10101222\n",
            "Courses taken in Summer2020 :\n",
            "CSE230\n",
            "CSE220\n",
            "MAT110\n",
            "GPA: 4.0\n",
            "CSE250\n",
            "CSE330\n",
            "GPA: 3.85\n",
            "Courses taken in Summer2021 :\n",
            "CSE230\n",
            "CSE220\n",
            "MAT110\n",
            "GPA: 4.0\n",
            "CSE250\n",
            "CSE330\n",
            "GPA: 3.85\n",
            "------------------------------------------------------\n",
            "Grades for Wanda\n",
            "{'Summer2022': {('CSE111', 'CSE260', 'ENG101'): 3.8000000000000003}}\n",
            "------------------------------------------------------\n",
            "Name:  Wanda\n",
            "ID:  10103332\n",
            "Courses taken in Summer2022 :\n",
            "CSE111\n",
            "CSE260\n",
            "ENG101\n",
            "GPA: 3.8000000000000003\n"
          ]
        }
      ]
    },
    {
      "cell_type": "code",
      "source": [
        "#Task 14  Tracing\n",
        "class Test3:\n",
        "    def __init__(self):\n",
        "        self.sum, self.y = 0, 0\n",
        "    def methodA(self):\n",
        "        x, y = 2, 3\n",
        "        msg = [0]\n",
        "        msg[0] = 3\n",
        "        y = self.y + msg[0]\n",
        "        self.methodB(msg, msg[0])\n",
        "        x = self.y + msg[0]\n",
        "        self.sum = x + y + msg[0]\n",
        "        print(x, y, self.sum)\n",
        "    def methodB(self, mg2, mg1):\n",
        "        x = 0\n",
        "        self.y = self.y + mg2[0]\n",
        "        x = x + 33 + mg1\n",
        "        self.sum = self.sum + x + self.y\n",
        "        mg2[0] = self.y + mg1\n",
        "        mg1 = mg1 + x + 2\n",
        "        print(x, self.y, self.sum)\n",
        "t3 = Test3()\n",
        "t3.methodA()\n",
        "t3.methodA()\n",
        "t3.methodA()\n",
        "t3.methodA()"
      ],
      "metadata": {
        "colab": {
          "base_uri": "https://localhost:8080/"
        },
        "id": "dDDxNmj-I9-p",
        "outputId": "080e9a36-5a71-4f89-85bf-58bde6c6bad0"
      },
      "execution_count": null,
      "outputs": [
        {
          "output_type": "stream",
          "name": "stdout",
          "text": [
            "36 3 39\n",
            "9 3 18\n",
            "36 6 60\n",
            "15 6 30\n",
            "36 9 75\n",
            "21 9 42\n",
            "36 12 90\n",
            "27 12 54\n"
          ]
        }
      ]
    },
    {
      "cell_type": "code",
      "source": [
        "#Task 15\n",
        "class Test5:\n",
        "    def __init__(self):\n",
        "        self.sum, self.y = 0, 0\n",
        "    def methodA(self):\n",
        "        x = 0\n",
        "        z = 0\n",
        "        while (z < 5):\n",
        "            self.y = self.y + self.sum\n",
        "            x = self.y + 1\n",
        "            print(x, self.y, self.sum)\n",
        "            self.sum = self.sum + self.methodB(x, self.y)\n",
        "            z += 1\n",
        "    def methodB(self, m, n):\n",
        "        x = 0\n",
        "        sum = 0\n",
        "        self.y = self.y + m\n",
        "        x = n - 4\n",
        "        sum = sum + self.y\n",
        "        print(x, self.y, sum)\n",
        "        return self.sum\n",
        "t5 = Test5()\n",
        "t5.methodA()"
      ],
      "metadata": {
        "colab": {
          "base_uri": "https://localhost:8080/"
        },
        "id": "Pmx5v4YLJFbx",
        "outputId": "57661d2f-02e4-4c7f-ffaf-3273199afd35"
      },
      "execution_count": null,
      "outputs": [
        {
          "output_type": "stream",
          "name": "stdout",
          "text": [
            "1 0 0\n",
            "-4 1 1\n",
            "2 1 0\n",
            "-3 3 3\n",
            "4 3 0\n",
            "-1 7 7\n",
            "8 7 0\n",
            "3 15 15\n",
            "16 15 0\n",
            "11 31 31\n"
          ]
        }
      ]
    },
    {
      "cell_type": "code",
      "source": [
        "#Task 16\n",
        "class FinalT6A:\n",
        "    def __init__(self, x, p):\n",
        "        self.temp, self.sum, self.y = 4, 0, 1\n",
        "        self.temp += 1\n",
        "        self.y = self.temp - p\n",
        "        self.sum = self.temp + x\n",
        "        print(x, self.y, self.sum)\n",
        "    def methodA(self):\n",
        "        x = 0\n",
        "        y = 0\n",
        "        y = y + self.y\n",
        "        x = self.y + 2 + self.temp\n",
        "        self.sum = x + y + self.methodB(self.temp, y)\n",
        "        print(x, y, self.sum)\n",
        "    def methodB(self, temp, n):\n",
        "        x = 0\n",
        "        temp += 1\n",
        "        self.y = self.y + temp\n",
        "        x = x + 3 + n\n",
        "        self.sum = self.sum + x + self.y\n",
        "        print(x, self.y, self.sum)\n",
        "        return self.sum\n",
        "\n",
        "q1 = FinalT6A(2,1)\n",
        "q1.methodA()\n",
        "q1.methodA()\n"
      ],
      "metadata": {
        "colab": {
          "base_uri": "https://localhost:8080/"
        },
        "id": "eaRanbrkJFz1",
        "outputId": "aaccfa50-ea93-49e4-a5ee-18856490a067"
      },
      "execution_count": null,
      "outputs": [
        {
          "output_type": "stream",
          "name": "stdout",
          "text": [
            "2 4 7\n",
            "7 10 24\n",
            "11 4 39\n",
            "13 16 68\n",
            "17 10 95\n"
          ]
        }
      ]
    },
    {
      "cell_type": "code",
      "source": [
        "#Task 17\n",
        "class Test5:\n",
        "  def __init__(self):\n",
        "      self.sum = 0\n",
        "      self.y = 0\n",
        "  def methodA(self):\n",
        "      x=y=k=0\n",
        "      msg = [5]\n",
        "      while (k < 2):\n",
        "          y += msg[0]\n",
        "          x = y + self.methodB(msg, k)\n",
        "          self.sum = x + y + msg[0]\n",
        "          print(x ,\" \" , y, \" \" , self.sum)\n",
        "          k+=1\n",
        "  def methodB(self, mg2, mg1):\n",
        "        x = 0\n",
        "        self.y += mg2[0]\n",
        "        x = x + 3 + mg1\n",
        "        self.sum += x + self.y\n",
        "        mg2[0] = self.y + mg1\n",
        "        mg1 += x + 2\n",
        "        print(x , \" \" ,self.y, \" \" , self.sum)\n",
        "        return mg1\n",
        "t1 = Test5()\n",
        "t1.methodA()\n",
        "t1.methodA()\n",
        "t1.methodA()\n"
      ],
      "metadata": {
        "colab": {
          "base_uri": "https://localhost:8080/"
        },
        "id": "-4vSKVLSJGCs",
        "outputId": "ccb0d39e-5df7-44b9-d534-7fc0a427ea0e"
      },
      "execution_count": null,
      "outputs": [
        {
          "output_type": "stream",
          "name": "stdout",
          "text": [
            "3   5   8\n",
            "10   5   20\n",
            "4   10   34\n",
            "17   10   38\n",
            "3   15   56\n",
            "10   5   30\n",
            "4   30   64\n",
            "27   20   78\n",
            "3   35   116\n",
            "10   5   50\n",
            "4   70   124\n",
            "47   40   158\n"
          ]
        }
      ]
    },
    {
      "cell_type": "code",
      "source": [
        "#Task 18\n",
        "class Test4:\n",
        "    def __init__(self):\n",
        "        self.sum, self.y = 0, 0\n",
        "    def methodA(self):\n",
        "        x, y = 0, 0\n",
        "        msg = [0]\n",
        "        msg[0] = 5\n",
        "        y = y + self.methodB(msg[0])\n",
        "        x = y + self.methodB(msg, msg[0])\n",
        "        self.sum = x + y + msg[0]\n",
        "        print(x, y, self.sum)\n",
        "    def methodB(self, *args):\n",
        "        if len(args) == 1:\n",
        "            mg1 = args[0]\n",
        "            x, y = 0, 0\n",
        "            y = y + mg1\n",
        "            x = x + 33 + mg1\n",
        "            self.sum = self.sum + x + y\n",
        "            self.y = mg1 + x + 2\n",
        "            print(x, y, self.sum)\n",
        "            return y\n",
        "        else:\n",
        "            mg2, mg1 = args\n",
        "            x = 0\n",
        "            self.y = self.y + mg2[0]\n",
        "            x = x + 33 + mg1\n",
        "            self.sum = self.sum + x + self.y\n",
        "            mg2[0] = self.y + mg1\n",
        "            mg1 = mg1 + x + 2\n",
        "            print(x, self.y, self.sum)\n",
        "            return self.sum\n",
        "t3 = Test4()\n",
        "t3.methodA()\n",
        "t3.methodA()\n",
        "t3.methodA()\n",
        "t3.methodA()\n"
      ],
      "metadata": {
        "id": "Av7RKkwUJGPj"
      },
      "execution_count": null,
      "outputs": []
    },
    {
      "cell_type": "code",
      "source": [
        "#Task 19\n",
        "class msgClass:\n",
        "    def __init__(self):\n",
        "        self.content = 0\n",
        "class Q5:\n",
        "    def __init__(self):\n",
        "        self.sum = 1\n",
        "        self.x = 2\n",
        "        self.y = 3\n",
        "    def methodA(self):\n",
        "        x, y = 1, 1\n",
        "        msg = []\n",
        "        myMsg = msgClass()\n",
        "        myMsg.content = self.x\n",
        "        msg.append(myMsg)\n",
        "        msg[0].content = self.y + myMsg.content\n",
        "        self.y = self.y + self.methodB(msg[0])\n",
        "        y = self.methodB(msg[0]) + self.y\n",
        "        x = y + self.methodB(msg[0], msg)\n",
        "        self.sum = x + y + msg[0].content\n",
        "        print(x,\" \", y,\" \", self.sum)\n",
        "    def methodB(self, mg1, mg2 = None):\n",
        "        if mg2 == None:\n",
        "            x, y = 5, 6\n",
        "            y = self.sum + mg1.content\n",
        "            self.y = y + mg1.content\n",
        "            x = self.x + 7 +mg1.content\n",
        "            self.sum = self.sum + x + y\n",
        "            self.x = mg1.content + x +8\n",
        "            print(x, \" \", y,\" \", self.sum)\n",
        "            return y\n",
        "        else:\n",
        "            x = 1\n",
        "            self.y += mg2[0].content\n",
        "            mg2[0].content = self.y + mg1.content\n",
        "            x = x + 4 + mg1.content\n",
        "            self.sum += x + self.y\n",
        "            mg1.content = self.sum - mg2[0].content\n",
        "            print(self.x, \" \",self.y,\" \", self.sum)\n",
        "            return self.sum\n",
        "q = Q5()\n",
        "q.methodA()"
      ],
      "metadata": {
        "colab": {
          "base_uri": "https://localhost:8080/"
        },
        "id": "KDixPqJ8JGcq",
        "outputId": "1995a914-6c66-4fc9-cfe8-7474a3dccd6f"
      },
      "execution_count": null,
      "outputs": [
        {
          "output_type": "stream",
          "name": "stdout",
          "text": [
            "14   6   21\n",
            "39   26   86\n",
            "52   36   168\n",
            "225   57   409\n"
          ]
        }
      ]
    }
  ]
}
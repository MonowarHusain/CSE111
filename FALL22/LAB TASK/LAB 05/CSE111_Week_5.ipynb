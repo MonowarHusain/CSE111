{
  "nbformat": 4,
  "nbformat_minor": 0,
  "metadata": {
    "colab": {
      "provenance": []
    },
    "kernelspec": {
      "name": "python3",
      "display_name": "Python 3"
    },
    "language_info": {
      "name": "python"
    }
  },
  "cells": [
    {
      "cell_type": "code",
      "execution_count": null,
      "metadata": {
        "colab": {
          "base_uri": "https://localhost:8080/"
        },
        "id": "6gLXoH8DksRD",
        "outputId": "f71442f9-5cfb-4a27-848c-874b23133e23"
      },
      "outputs": [
        {
          "output_type": "stream",
          "name": "stdout",
          "text": [
            "Quiz 1 (out of 10): 10\n",
            "Quiz 2 (out of 10): 10\n",
            "Lab (out of 30): 30\n",
            "Mid (out of 20): 20\n",
            "Final (out of 30): 30\n",
            "Total marks: 100\n"
          ]
        }
      ],
      "source": [
        "#task 01\n",
        "class Marks:\n",
        "    def __init__(self,mark):\n",
        "        self.mark = mark\n",
        "    def __add__(self,other):\n",
        "        return Marks(self.mark + other.mark)\n",
        "\n",
        "\n",
        "Q1 = Marks(int(input(\"Quiz 1 (out of 10): \")))\n",
        "Q2 = Marks(int(input(\"Quiz 2 (out of 10): \")))\n",
        "Lab = Marks(int(input(\"Lab (out of 30): \")))\n",
        "Mid = Marks(int(input(\"Mid (out of 20): \")))\n",
        "Final = Marks(int(input(\"Final (out of 30): \")))\n",
        "total = Q1 + Q2 + Lab + Mid + Final\n",
        "print(\"Total marks: {}\".format(total.mark))"
      ]
    },
    {
      "cell_type": "code",
      "source": [
        "#task 02\n",
        "class Teacher:\n",
        "    def __init__(self,name,dept):\n",
        "        self.__name = name\n",
        "        self.__dept = dept\n",
        "        self.__cTought = []\n",
        "    def addCourse(self,courses):\n",
        "        self.__cTought.append(courses.course)\n",
        "    def printDetail(self):\n",
        "        print(f'Name: {self.__name}\\nDepartment: {self.__dept}\\nList of course')\n",
        "        print('============================')\n",
        "        for i in self.__cTought:\n",
        "            print(i)\n",
        "        print('============================')\n",
        "        print('============================')\n",
        "class Course:\n",
        "    def __init__(self,course):\n",
        "        self.course = course\n",
        "t1 = Teacher(\"Saad Abdullah\", \"CSE\")\n",
        "t2 = Teacher(\"Mumit Khan\", \"CSE\")\n",
        "t3 = Teacher(\"Sadia Kazi\", \"CSE\")\n",
        "c1 = Course(\"CSE 110 Programming Language I\")\n",
        "c2 = Course(\"CSE 111 Programming Language-II\")\n",
        "c3 = Course(\"CSE 220 Data Structures\")\n",
        "c4 = Course(\"CSE 221 Algorithms\")\n",
        "c5 = Course(\"CCSE 230 Discrete Mathematics\")\n",
        "c6 = Course(\"CSE 310 Object Oriented Programming\")\n",
        "c7 = Course(\"CSE 320 Data Communications\")\n",
        "c8 = Course(\"CSE 340 Computer Architecture\")\n",
        "t1.addCourse(c1)\n",
        "t1.addCourse(c2)\n",
        "t2.addCourse(c3)\n",
        "t2.addCourse(c4)\n",
        "t2.addCourse(c5)\n",
        "t3.addCourse(c6)\n",
        "t3.addCourse(c7)\n",
        "t3.addCourse(c8)\n",
        "t1.printDetail()\n",
        "t2.printDetail()\n",
        "t3.printDetail()"
      ],
      "metadata": {
        "colab": {
          "base_uri": "https://localhost:8080/"
        },
        "id": "CfKcgeAWmnFK",
        "outputId": "c203a1d3-3764-4472-a6e1-21659c41396f"
      },
      "execution_count": null,
      "outputs": [
        {
          "output_type": "stream",
          "name": "stdout",
          "text": [
            "Name: Saad Abdullah\n",
            "Department: CSE\n",
            "List of course\n",
            "============================\n",
            "CSE 110 Programming Language I\n",
            "CSE 111 Programming Language-II\n",
            "============================\n",
            "============================\n",
            "Name: Mumit Khan\n",
            "Department: CSE\n",
            "List of course\n",
            "============================\n",
            "CSE 220 Data Structures\n",
            "CSE 221 Algorithms\n",
            "CCSE 230 Discrete Mathematics\n",
            "============================\n",
            "============================\n",
            "Name: Sadia Kazi\n",
            "Department: CSE\n",
            "List of course\n",
            "============================\n",
            "CSE 310 Object Oriented Programming\n",
            "CSE 320 Data Communications\n",
            "CSE 340 Computer Architecture\n",
            "============================\n",
            "============================\n"
          ]
        }
      ]
    },
    {
      "cell_type": "code",
      "source": [
        "#Task 03\n",
        "\n",
        "class Team:\n",
        "    def __init__(self,country = None):\n",
        "        self.__country = country\n",
        "        self.__pList = []\n",
        "    def setName(self,country):\n",
        "        self.__country = country\n",
        "\n",
        "    def addPlayer(self,y):\n",
        "        self.__pList.append(y.x)\n",
        "    def printDetail(self):\n",
        "        print('============================')\n",
        "        print(f'Team: {self.__country}\\nList of Players:\\n{self.__pList}')\n",
        "        print('============================')\n",
        "class Player:\n",
        "    def __init__(self,x):\n",
        "        self.x = x\n",
        "b = Team()\n",
        "b.setName('Bangladesh')\n",
        "mashrafi = Player(\"Mashrafi\")\n",
        "b.addPlayer(mashrafi)\n",
        "tamim = Player(\"Tamim\")\n",
        "b.addPlayer(tamim)\n",
        "b.printDetail()\n",
        "a = Team(\"Australia\")\n",
        "ponting = Player(\"Ponting\")\n",
        "a.addPlayer(ponting)\n",
        "lee = Player(\"Lee\")\n",
        "a.addPlayer(lee)\n",
        "a.printDetail()"
      ],
      "metadata": {
        "id": "RDgNJmi8r3dI",
        "colab": {
          "base_uri": "https://localhost:8080/"
        },
        "outputId": "af217182-a098-43d0-c8f7-fdf64f2cf55a"
      },
      "execution_count": null,
      "outputs": [
        {
          "output_type": "stream",
          "name": "stdout",
          "text": [
            "============================\n",
            "Team: Bangladesh\n",
            "List of Players:\n",
            "['Mashrafi', 'Tamim']\n",
            "============================\n",
            "============================\n",
            "Team: Australia\n",
            "List of Players:\n",
            "['Ponting', 'Lee']\n",
            "============================\n"
          ]
        }
      ]
    },
    {
      "cell_type": "code",
      "source": [
        "#task 04\n",
        "\n",
        "class Color:\n",
        "    def __init__(self,x):\n",
        "        self.clr = x\n",
        "    def __add__(self,other):\n",
        "        if (self.clr  == 'red' and other.clr  == 'yellow') or (self.clr  == 'yellow' and other.clr  == 'red') :\n",
        "            return Color('Orange')\n",
        "        elif (self.clr  == 'red' and other.clr  == 'blue') or (self.clr  == 'blue' and other.clr  == 'red'):\n",
        "            return Color('Violet')\n",
        "        elif (self.clr  == 'yellow' and other.clr  == 'blue') or (self.clr  == 'blue' and other.clr  == 'yellow'):\n",
        "            return Color('Green')\n",
        "C1 = Color(input(\"First Color: \").lower())\n",
        "C2 = Color(input(\"Second Color: \").lower())\n",
        "C3 = C1 + C2\n",
        "print(\"Color formed:\", C3.clr)"
      ],
      "metadata": {
        "colab": {
          "base_uri": "https://localhost:8080/"
        },
        "id": "vS3lxV5v2_7s",
        "outputId": "9afcad48-8a0f-4b4f-f1e2-f66667d95252"
      },
      "execution_count": null,
      "outputs": [
        {
          "output_type": "stream",
          "name": "stdout",
          "text": [
            "First Color: blue\n",
            "Second Color: yellow\n",
            "Color formed: Green\n"
          ]
        }
      ]
    },
    {
      "cell_type": "code",
      "source": [
        "#task 05\n",
        "import math\n",
        "class Circle:\n",
        "    def __init__(self,x):\n",
        "        self.__rad=x\n",
        "    def getRadius(self):\n",
        "        return self.__rad\n",
        "    def setRadius(self,x):\n",
        "        self.__rad=x\n",
        "    def area(self):\n",
        "        m = math.pi *(self.__rad)**2\n",
        "        return m\n",
        "    def __add__(self,other):\n",
        "        return Circle(self.__rad + other.__rad)\n",
        "c1 = Circle(4)\n",
        "print(\"First circle radius:\" , c1.getRadius())\n",
        "print(\"First circle area:\" ,c1.area())\n",
        "c2 = Circle(5)\n",
        "print(\"Second circle radius:\" ,c2.getRadius())\n",
        "print(\"Second circle area:\" ,c2.area())\n",
        "c3 = c1 + c2\n",
        "print(\"Third circle radius:\" ,c3.getRadius())\n",
        "print(\"Third circle area:\" ,c3.area())"
      ],
      "metadata": {
        "colab": {
          "base_uri": "https://localhost:8080/"
        },
        "id": "uZ0xQY3y9FAN",
        "outputId": "ba081e60-ffb4-42dc-d06b-f6f32dd4329d"
      },
      "execution_count": null,
      "outputs": [
        {
          "output_type": "stream",
          "name": "stdout",
          "text": [
            "First circle radius: 4\n",
            "First circle area: 50.26548245743669\n",
            "Second circle radius: 5\n",
            "Second circle area: 78.53981633974483\n",
            "Third circle radius: 9\n",
            "Third circle area: 254.46900494077323\n"
          ]
        }
      ]
    },
    {
      "cell_type": "code",
      "source": [
        "\n",
        "#task 06\n",
        "\n",
        "class Triangle:\n",
        "    def __init__(self,base,height):\n",
        "        self.__base = base\n",
        "        self.__heigth = height\n",
        "    def getBase(self):\n",
        "        return self.__base\n",
        "    def getHeight(self):\n",
        "        return self.__heigth\n",
        "    def setHeight(self,height):\n",
        "        self.__heigth = height\n",
        "    def setBase(self,base):\n",
        "        self.__base = base\n",
        "\n",
        "    def area(self):\n",
        "        area = 0.5 * self.__base * self.__heigth\n",
        "        return area\n",
        "    def __sub__(self,other):\n",
        "        return Triangle(self.__base - other.__base,self.__heigth - other.__heigth)\n",
        "t1 = Triangle(10, 5)\n",
        "print(\"First Triangle Base:\" , t1.getBase())\n",
        "print(\"First Triangle Height:\" , t1.getHeight())\n",
        "print(\"First Triangle area:\" ,t1.area())\n",
        "t2 = Triangle(5, 3)\n",
        "print(\"Second Triangle Base:\" , t2.getBase())\n",
        "print(\"Second Triangle Height:\" , t2.getHeight())\n",
        "print(\"Second Triangle area:\" ,t2.area())\n",
        "t3 = t1 - t2\n",
        "print(\"Third Triangle Base:\" , t3.getBase())\n",
        "print(\"Third Triangle Height:\" , t3.getHeight())\n",
        "print(\"Third Triangle area:\" ,t3.area())"
      ],
      "metadata": {
        "colab": {
          "base_uri": "https://localhost:8080/"
        },
        "id": "5hKblbEmCPhN",
        "outputId": "dcdfddf0-a901-417b-ab2d-63878f06ba5e"
      },
      "execution_count": null,
      "outputs": [
        {
          "output_type": "stream",
          "name": "stdout",
          "text": [
            "First Triangle Base: 10\n",
            "First Triangle Height: 5\n",
            "First Triangle area: 25.0\n",
            "Second Triangle Base: 5\n",
            "Second Triangle Height: 3\n",
            "Second Triangle area: 7.5\n",
            "Third Triangle Base: 5\n",
            "Third Triangle Height: 2\n",
            "Third Triangle area: 5.0\n"
          ]
        }
      ]
    },
    {
      "cell_type": "code",
      "source": [
        "#task 07\n",
        "class Dolls:\n",
        "    def __init__(self,name,price):\n",
        "        self.name = name\n",
        "        self.price = price\n",
        "    def detail(self):\n",
        "        return f'Name: {self.name}\\nTotal Price: {self.price}'\n",
        "    def __gt__(self,other):\n",
        "        if self.price > other.price:\n",
        "            return True\n",
        "        else:\n",
        "            return False\n",
        "    def __add__(self,other):\n",
        "        return Dolls(self.name + other.name, self.price + other.price)\n",
        "\n",
        "\n",
        "obj_1 = Dolls(\"Tweety\", 2500)\n",
        "print(obj_1.detail())\n",
        "if obj_1 > obj_1:\n",
        "    print(\"Congratulations! You get the Tweety as a gift!\")\n",
        "else:\n",
        "    print(\"Thank you!\")\n",
        "print(\"=========================\")\n",
        "obj_2 = Dolls(\"Daffy Duck\", 1800)\n",
        "print(obj_2.detail())\n",
        "if obj_2 > obj_1:\n",
        "    print(\"Congratulations! You get the Tweety as a gift!\")\n",
        "else:\n",
        "    print(\"Thank you!\")\n",
        "print(\"=========================\")\n",
        "obj_3 = Dolls(\"Bugs Bunny\", 3000)\n",
        "print(obj_3.detail())\n",
        "if obj_3 > obj_1:\n",
        "    print(\"Congratulations! You get the Tweety as a gift!\")\n",
        "else:\n",
        "    print(\"Thank you!\")\n",
        "print(\"=========================\")\n",
        "obj_4 = Dolls(\"Porky Pig\", 1500)\n",
        "print(obj_4.detail())\n",
        "if obj_4 > obj_1:\n",
        "    print(\"Congratulations! You get the Tweety as a gift!\")\n",
        "else:\n",
        "    print(\"Thank you!\")\n",
        "print(\"=========================\")\n",
        "obj_5 = obj_2 + obj_3\n",
        "print(obj_5.detail())\n",
        "if obj_5 > obj_1:\n",
        "    print(\"Congratulations! You get the Tweety as a gift!\")\n",
        "else:\n",
        "    print(\"Thank you!\")"
      ],
      "metadata": {
        "id": "a1DR3O9o-s4t",
        "colab": {
          "base_uri": "https://localhost:8080/"
        },
        "outputId": "9371352f-5bb9-41af-8ba9-60f5fec05365"
      },
      "execution_count": null,
      "outputs": [
        {
          "output_type": "stream",
          "name": "stdout",
          "text": [
            "Name: Tweety\n",
            "Total Price: 2500\n",
            "Thank you!\n",
            "=========================\n",
            "Name: Daffy Duck\n",
            "Total Price: 1800\n",
            "Thank you!\n",
            "=========================\n",
            "Name: Bugs Bunny\n",
            "Total Price: 3000\n",
            "Congratulations! You get the Tweety as a gift!\n",
            "=========================\n",
            "Name: Porky Pig\n",
            "Total Price: 1500\n",
            "Thank you!\n",
            "=========================\n",
            "Name: Daffy DuckBugs Bunny\n",
            "Total Price: 4800\n",
            "Congratulations! You get the Tweety as a gift!\n"
          ]
        }
      ]
    },
    {
      "cell_type": "code",
      "source": [
        "#task 08  Last output issue\n",
        "\n",
        "class Coordinates:\n",
        "    def __init__(self,x,y):\n",
        "        self.x = x\n",
        "        self.y = y\n",
        "    def __sub__(self,other):\n",
        "        return Coordinates(self.x - other.x , self.y - other.y)\n",
        "    def __mul__(self,other):\n",
        "        return Coordinates(self.x * other.x , self.y * other.y)\n",
        "    def __eq__(self,other):\n",
        "        if self.x == other.x and self.y == other.y:\n",
        "            return 'The calculated coordinates are the same.'\n",
        "        else:\n",
        "            return 'The calculated coordinates are NOT the same.'\n",
        "    def detail(self):\n",
        "        return f'({self.x},{self.y})'\n",
        "p1 = Coordinates(int(input()),int(input()))\n",
        "p2 = Coordinates(int(input()),int(input()))\n",
        "p4 = p1 - p2\n",
        "print(p4.detail())\n",
        "p5 = p1 * p2\n",
        "print(p5.detail())\n",
        "point_check = (p4 == p5)\n",
        "print(point_check)"
      ],
      "metadata": {
        "id": "fVD4NmQ3Gm07",
        "colab": {
          "base_uri": "https://localhost:8080/"
        },
        "outputId": "b04bed20-3bbd-4f6c-925a-ea6644049dde"
      },
      "execution_count": null,
      "outputs": [
        {
          "output_type": "stream",
          "name": "stdout",
          "text": [
            "1\n",
            "2\n",
            "3\n",
            "4\n",
            "(-2,-2)\n",
            "(3,8)\n",
            "The calculated coordinates are NOT the same.\n"
          ]
        }
      ]
    },
    {
      "cell_type": "code",
      "source": [
        "class Facebook:\n",
        "    def __init__(self,email,password,name):\n",
        "        self.email = email\n",
        "        self.__password = password\n",
        "        self.name = name\n",
        "    def login(self):\n",
        "        email = input('Please enter your email id: ')\n",
        "        password = input('Please enter your password: ')\n",
        "        if email == self.email and password == self.__password:\n",
        "            print('Successfully login')\n",
        "        else:\n",
        "            print('Try again')\n",
        "    def changepassword(self,old,new):\n",
        "        o = input('Please enter your old password: ')\n",
        "        n = input('Please enter your new password: ')\n",
        "        if old == self.__password:\n",
        "            self.__password = new\n",
        "\n",
        "afs = Facebook('afs22@gmail.com','5353','CG4')\n",
        "afs.login()\n",
        "afs.changepassword(o,n)"
      ],
      "metadata": {
        "colab": {
          "base_uri": "https://localhost:8080/",
          "height": 259
        },
        "id": "naUnr-wxi5V6",
        "outputId": "97ba1557-6e56-4498-a634-53223b22b134"
      },
      "execution_count": null,
      "outputs": [
        {
          "output_type": "stream",
          "name": "stdout",
          "text": [
            "Please enter your email id: afs22@gmail.com\n",
            "Please enter your password: 5353\n",
            "Successfully login\n"
          ]
        },
        {
          "output_type": "error",
          "ename": "NameError",
          "evalue": "ignored",
          "traceback": [
            "\u001b[0;31m---------------------------------------------------------------------------\u001b[0m",
            "\u001b[0;31mNameError\u001b[0m                                 Traceback (most recent call last)",
            "\u001b[0;32m<ipython-input-34-94a233187f36>\u001b[0m in \u001b[0;36m<module>\u001b[0;34m\u001b[0m\n\u001b[1;32m     19\u001b[0m \u001b[0mafs\u001b[0m \u001b[0;34m=\u001b[0m \u001b[0mFacebook\u001b[0m\u001b[0;34m(\u001b[0m\u001b[0;34m'afs22@gmail.com'\u001b[0m\u001b[0;34m,\u001b[0m\u001b[0;34m'5353'\u001b[0m\u001b[0;34m,\u001b[0m\u001b[0;34m'CG4'\u001b[0m\u001b[0;34m)\u001b[0m\u001b[0;34m\u001b[0m\u001b[0;34m\u001b[0m\u001b[0m\n\u001b[1;32m     20\u001b[0m \u001b[0mafs\u001b[0m\u001b[0;34m.\u001b[0m\u001b[0mlogin\u001b[0m\u001b[0;34m(\u001b[0m\u001b[0;34m)\u001b[0m\u001b[0;34m\u001b[0m\u001b[0;34m\u001b[0m\u001b[0m\n\u001b[0;32m---> 21\u001b[0;31m \u001b[0mafs\u001b[0m\u001b[0;34m.\u001b[0m\u001b[0mchangepassword\u001b[0m\u001b[0;34m(\u001b[0m\u001b[0mo\u001b[0m\u001b[0;34m,\u001b[0m\u001b[0mn\u001b[0m\u001b[0;34m)\u001b[0m\u001b[0;34m\u001b[0m\u001b[0;34m\u001b[0m\u001b[0m\n\u001b[0m",
            "\u001b[0;31mNameError\u001b[0m: name 'o' is not defined"
          ]
        }
      ]
    }
  ]
}
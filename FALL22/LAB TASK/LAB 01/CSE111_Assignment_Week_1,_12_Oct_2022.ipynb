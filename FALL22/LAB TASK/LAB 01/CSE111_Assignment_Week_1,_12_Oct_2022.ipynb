{
  "nbformat": 4,
  "nbformat_minor": 0,
  "metadata": {
    "colab": {
      "provenance": [],
      "authorship_tag": "ABX9TyMK6fs+gGRlQ2D+3tkdsauG"
    },
    "kernelspec": {
      "name": "python3",
      "display_name": "Python 3"
    },
    "language_info": {
      "name": "python"
    }
  },
  "cells": [
    {
      "cell_type": "code",
      "execution_count": null,
      "metadata": {
        "id": "OkiLwZ6jCXLb",
        "colab": {
          "base_uri": "https://localhost:8080/"
        },
        "outputId": "80d4ca88-424a-401a-c6b9-279c628d751b"
      },
      "outputs": [
        {
          "output_type": "stream",
          "name": "stdout",
          "text": [
            "BaNaNa\n",
            "banana"
          ]
        }
      ],
      "source": [
        "#String task01\n",
        "user = input()\n",
        "upp=0\n",
        "low=0\n",
        "for i in user:\n",
        "    if ord(i)>=65 and ord(i)<=90:\n",
        "        upp+=1\n",
        "    else:\n",
        "        low+=1\n",
        "if upp>low:\n",
        "    for i in user:\n",
        "        if ord(i)>=65 and ord(i)<=90:\n",
        "            print(i,end='')\n",
        "        else:\n",
        "            print(chr(ord(i)-32),end='')\n",
        "elif upp<=low:\n",
        "    for i in user:\n",
        "        if ord(i)>=65 and ord(i)<=90:\n",
        "            print(chr(ord(i)+32),end='')\n",
        "        else:\n",
        "            print(i,end='')"
      ]
    },
    {
      "cell_type": "code",
      "source": [],
      "metadata": {
        "id": "hTYJ1xqps35I"
      },
      "execution_count": null,
      "outputs": []
    },
    {
      "cell_type": "code",
      "source": [
        "#String task02\n",
        "\n",
        "word = input('Please input the string: ')\n",
        "flag_number = False\n",
        "flag_word = False\n",
        "\n",
        "for i in word:\n",
        "  if 48<= ord(i) <= 57:\n",
        "    flag_number = True\n",
        "  else:\n",
        "    flag_word = True\n",
        "if flag_word == True and flag_number == True:\n",
        "  print('MIXED')\n",
        "elif flag_word == True and flag_number == False:\n",
        "  print('WORD')\n",
        "else:\n",
        "  print('NUMBER')"
      ],
      "metadata": {
        "id": "zVmJfuE9ao85"
      },
      "execution_count": null,
      "outputs": []
    },
    {
      "cell_type": "code",
      "source": [
        "#String task03\n",
        "#task03\n",
        "user = 'baNgladEsh'\n",
        "c=[]\n",
        "for i in range(len(user)):\n",
        "    if 65 <= ord(user[i]) <= 90:\n",
        "        c.append(i)\n",
        "    else:\n",
        "        pass\n",
        "\n",
        "\n",
        "print(c)\n",
        "print(user[c[0]+1:c[1]])"
      ],
      "metadata": {
        "colab": {
          "base_uri": "https://localhost:8080/"
        },
        "id": "acnEpbwuax52",
        "outputId": "738ed8e7-ff5f-4ae4-beb1-70f0ce428067"
      },
      "execution_count": null,
      "outputs": [
        {
          "output_type": "stream",
          "name": "stdout",
          "text": [
            "[2, 7]\n",
            "glad\n"
          ]
        }
      ]
    },
    {
      "cell_type": "code",
      "source": [
        "#String task04\n",
        "user1=input()\n",
        "user2=input()\n",
        "temp=''\n",
        "\n",
        "for i in user1:\n",
        "    if i in user2:\n",
        "         temp+=i\n",
        "    else:\n",
        "        pass\n",
        "for i in user2:\n",
        "    if i in temp:\n",
        "        temp+=i\n",
        "    else:\n",
        "        pass\n",
        "\n",
        "if len(temp) == 0:\n",
        "    print('Nothing in the outcome')\n",
        "else:\n",
        "    print(temp)\n"
      ],
      "metadata": {
        "colab": {
          "base_uri": "https://localhost:8080/"
        },
        "id": "iJW9NWVTkzNh",
        "outputId": "d2f6a805-491a-4111-89bc-5df96ad87120"
      },
      "execution_count": null,
      "outputs": [
        {
          "output_type": "stream",
          "name": "stdout",
          "text": [
            "harry\n",
            "hermione\n",
            "hrrhr\n"
          ]
        }
      ]
    },
    {
      "cell_type": "code",
      "source": [
        "#String task05\n",
        "\n",
        "string = input('Enter your new password:')\n",
        "case1 = 0\n",
        "case2 = 0\n",
        "case3 = 0\n",
        "case4 = 0\n",
        "for i in string:\n",
        "    if ord(i) >= 97 and ord(i) <= 122:\n",
        "        case1 += 1\n",
        "    elif ord(i) >= 65 and ord(i) <= 90:\n",
        "        case2 += 1\n",
        "    elif ord(i) >= 48 and ord(i)<= 57:\n",
        "        case3 +=1\n",
        "    elif i == '_' or i == '$' or i == '#' or i == '@':\n",
        "        case4 += 1\n",
        "if case1 == 0:\n",
        "    print('Lowercase Missing',end=',')\n",
        "if case2 == 0:\n",
        "    print('Uppercase Missing',end=',')\n",
        "if case3 == 0:\n",
        "    print('Digit Missing',end=',')\n",
        "if case4 == 0:\n",
        "    print('Special Missing',end=',')\n",
        "if case1 >=1 and case2 >=1 and case3 >=1 and case4 >=1:\n",
        "    print('OK')"
      ],
      "metadata": {
        "colab": {
          "base_uri": "https://localhost:8080/"
        },
        "id": "-pKhlcz2a2qJ",
        "outputId": "5d23edc8-b415-494d-e5b9-211453ec2c45"
      },
      "execution_count": null,
      "outputs": [
        {
          "output_type": "stream",
          "name": "stdout",
          "text": [
            "Enter your new password:@@69\n",
            "Lowercase Missing,Uppercase Missing,"
          ]
        }
      ]
    },
    {
      "cell_type": "code",
      "source": [
        "#List Task 01\n",
        "user_list = []\n",
        "i = input(\"Enter input: \")\n",
        "while i != \"STOP\":\n",
        "    user_list.append(i)\n",
        "    i = input(\"Enter input: \")\n",
        "new_list =[]\n",
        "for j in user_list:\n",
        "    if j not in new_list:\n",
        "        new_list.append(j)\n",
        "s= 0\n",
        "for i in new_list:\n",
        "    s= 0\n",
        "    for k in user_list:\n",
        "        if i == k:\n",
        "            s += 1\n",
        "    print(i,\"-\",s,\"times\")"
      ],
      "metadata": {
        "colab": {
          "base_uri": "https://localhost:8080/"
        },
        "id": "RL2RDcPlbEbA",
        "outputId": "0916e8c0-e364-4b27-f023-1a17e003a7ff"
      },
      "execution_count": null,
      "outputs": [
        {
          "output_type": "stream",
          "name": "stdout",
          "text": [
            "Enter input: 10\n",
            "Enter input: 10\n",
            "Enter input: 25\n",
            "Enter input: STOP\n",
            "10 - 2 times\n",
            "25 - 1 times\n"
          ]
        }
      ]
    },
    {
      "cell_type": "code",
      "source": [
        "#List Task 02\n",
        "N = int(input())\n",
        "my_dict = {}\n",
        "\n",
        "for i in range(N):\n",
        "  list1 = [int(i) for i in input().split(\" \")]\n",
        "  sum = 0\n",
        "\n",
        "  for i in list1:\n",
        "    sum += i\n",
        "\n",
        "  my_dict[sum] = list1\n",
        "\n",
        "max_sum = 0\n",
        "max_list = []\n",
        "\n",
        "for key, value in my_dict.items():\n",
        "  if key > max_sum:\n",
        "    max_sum = key\n",
        "    max_list = value\n",
        "\n",
        "print(max_sum)\n",
        "print(max_list)"
      ],
      "metadata": {
        "colab": {
          "base_uri": "https://localhost:8080/"
        },
        "id": "tOHPfRhnbLVP",
        "outputId": "5701647c-7136-4f30-a20f-4c720640a5f6"
      },
      "execution_count": null,
      "outputs": [
        {
          "output_type": "stream",
          "name": "stdout",
          "text": [
            "4\n",
            "1 2 3\n",
            "4 5 6\n",
            "10 11 12\n",
            "7 8 9\n",
            "33\n",
            "[10, 11, 12]\n"
          ]
        }
      ]
    },
    {
      "cell_type": "code",
      "source": [
        "#List Task 03\n",
        "list1 = []\n",
        "while True:\n",
        "    num = input()\n",
        "    if num != \"STOP\":\n",
        "        x = num.split()\n",
        "        list1.append(x)\n",
        "    else:\n",
        "        break\n",
        "for i in list1:\n",
        "    s1 =\"\"\n",
        "    for j in range(len(i)-1):\n",
        "        for s in range(j+1,j+2):\n",
        "            n=int(i[j])-int(i[s])\n",
        "            if abs(n)<=len(i):\n",
        "                s1=\"UB JUMPER\"\n",
        "            else:\n",
        "                s1=\"NOT UB JUMPER\"\n",
        "    print(s1)"
      ],
      "metadata": {
        "colab": {
          "base_uri": "https://localhost:8080/"
        },
        "id": "m3UKT6c9bw9T",
        "outputId": "e3271afc-8ca2-4b89-8750-9e67a224c1ad"
      },
      "execution_count": null,
      "outputs": [
        {
          "output_type": "stream",
          "name": "stdout",
          "text": [
            "1 4 2 -1 6\n",
            "STOP\n",
            "NOT UB JUMPER\n"
          ]
        }
      ]
    },
    {
      "cell_type": "code",
      "source": [
        "#List Task 04\n",
        "string_1 = input('Sir,Please enter your first string: ')\n",
        "string_2 = input('Sir,Please enter your second string: ')\n",
        "\n",
        "number_1 = int(string_1[0])\n",
        "number_2 = int(string_1[2])\n",
        "\n",
        "number_list = string_2.split()\n",
        "number_list = [int(i) for i in number_list]\n",
        "\n",
        "\n",
        "count = 0\n",
        "\n",
        "for i in number_list :\n",
        "    if i + number_2 <= 5 :\n",
        "        count +=1\n",
        "\n",
        "print(count//3)"
      ],
      "metadata": {
        "colab": {
          "base_uri": "https://localhost:8080/"
        },
        "id": "HMVotbvXb3o4",
        "outputId": "3acda2c9-02a1-4167-ef0b-70b640d0b3b6"
      },
      "execution_count": null,
      "outputs": [
        {
          "output_type": "stream",
          "name": "stdout",
          "text": [
            "Sir,Please enter your first string: 5 2\n",
            "Sir,Please enter your second string: 0 4 5 1 0\n",
            "1\n"
          ]
        }
      ]
    },
    {
      "cell_type": "code",
      "source": [
        "#Dictionary 01\n",
        "dict1 = {\"a\":100,\"b\":100,\"c\":200,\"d\":300}\n",
        "dict2 = {\"a\":300,\"b\":200,\"d\":400,\"e\":200}\n",
        "\n",
        "dict0 = {}\n",
        "\n",
        "dict0[\"a\"]=dict1[\"a\"]+dict2[\"a\"]\n",
        "dict0[\"b\"]=dict1[\"b\"]+dict2[\"b\"]\n",
        "dict0[\"c\"]=dict1[\"c\"]\n",
        "dict0[\"d\"]=dict1[\"d\"]+dict2[\"d\"]\n",
        "dict0[\"e\"]=dict2[\"e\"]\n",
        "print(dict0)\n",
        "dict0.pop(\"e\")\n",
        "list = []\n",
        "for i in dict0.values():\n",
        "    list.append(i)\n",
        "    list.sort()\n",
        "    value = tuple(list)\n",
        "print(\"Values:\",value)"
      ],
      "metadata": {
        "colab": {
          "base_uri": "https://localhost:8080/"
        },
        "id": "iviktl3bdGmf",
        "outputId": "f6eacb50-3c55-4101-8df2-5ec55c1068c0"
      },
      "execution_count": null,
      "outputs": [
        {
          "output_type": "stream",
          "name": "stdout",
          "text": [
            "{'a': 400, 'b': 300, 'c': 200, 'd': 700, 'e': 200}\n",
            "Values: (200, 300, 400, 700)\n"
          ]
        }
      ]
    },
    {
      "cell_type": "code",
      "source": [
        "#Dictionary 02\n",
        "list1 = []\n",
        "while True:\n",
        "    inp = input()\n",
        "    if inp == \"STOP\":\n",
        "        break\n",
        "    list1.append(int(inp))\n",
        "my_dict = {}\n",
        "for i in list1:\n",
        "    my_dict[i] = 0\n",
        "for i in list1:\n",
        "    my_dict[i] += 1\n",
        "for key, value in my_dict.items():\n",
        "    print(key, \"-\", value, \"times\")"
      ],
      "metadata": {
        "id": "hxpd22Gkc0jP",
        "outputId": "a0eeb0e6-56a2-4f9b-dfe1-becf96c1f0a4",
        "colab": {
          "base_uri": "https://localhost:8080/"
        }
      },
      "execution_count": null,
      "outputs": [
        {
          "output_type": "stream",
          "name": "stdout",
          "text": [
            "10\n",
            "20\n",
            "20\n",
            "STOP\n",
            "10 - 1 times\n",
            "20 - 2 times\n"
          ]
        }
      ]
    },
    {
      "cell_type": "code",
      "source": [
        "#Dictionary 03\n",
        "dict1 = {'key1' :'value1', 'key2' : 'value2', 'key3' :'value1'}\n",
        "dict2={}\n",
        "for i,k in dict1.items():\n",
        "    if k not in dict2:\n",
        "        dict2[k]=[i]\n",
        "    else:\n",
        "        dict2[k].append(i)\n",
        "print(dict2)"
      ],
      "metadata": {
        "colab": {
          "base_uri": "https://localhost:8080/"
        },
        "id": "yHS79vsrc4FD",
        "outputId": "43a3956a-2469-47cd-ba88-8debb0be2295"
      },
      "execution_count": null,
      "outputs": [
        {
          "output_type": "stream",
          "name": "stdout",
          "text": [
            "{'value1': ['key1', 'key3'], 'value2': ['key2']}\n"
          ]
        }
      ]
    },
    {
      "cell_type": "code",
      "source": [
        "#Dictionary 04\n",
        "dict1={\"1\":[\".\",\",\",\"?\",\"!\",\":\"], \"2\":[\"A\",\"B\",\"C\"], \"3\":[\"D\",\"E\",\"F\"], \"4\":[\"G\",\"H\",\"I\"], \"5\":[\"J\",\"K\",\"L\"], \"6\":[\"M\",\"N\",\"O\"], \"7\":[\"P\",\"Q\",\"R\",\"S\"], \"8\":[\"T\",\"U\",\"V\"], \"9\":[\"W\",\"X\",\"Y\",\"Z\"], \"0\":[\" \"]}\n",
        "user =input().upper()\n",
        "for i in range(len(user)):\n",
        "\n",
        "    for key, value in dict1.items():\n",
        "\n",
        "        if user[i] in value:\n",
        "            print(key*(value.index(user[i])+1), end=\"\")"
      ],
      "metadata": {
        "id": "WBW2jzzOj7sC",
        "colab": {
          "base_uri": "https://localhost:8080/"
        },
        "outputId": "f1a3ccfb-a550-4aca-b322-e9851f233960"
      },
      "execution_count": null,
      "outputs": [
        {
          "output_type": "stream",
          "name": "stdout",
          "text": [
            "Hello\n",
            "4433555555666"
          ]
        }
      ]
    },
    {
      "cell_type": "code",
      "source": [
        "#funtion 01\n",
        "def BMI(height,weight):\n",
        "    bmi = (weight / ((height / 100) ** 2))\n",
        "\n",
        "    if bmi < 18.5 :\n",
        "        condition = 'Underweight'\n",
        "    elif 18.5 <= bmi <= 24.9 :\n",
        "        condition = 'Normal'\n",
        "    elif 24.9 <= bmi <= 30 :\n",
        "        condition = 'Overweight'\n",
        "    else :\n",
        "        condition = 'Obese'\n",
        "    print(f'Score is {bmi}. You are {condition}')\n",
        "\n",
        "\n",
        "height = float(input('Please enter your height (in cm) : '))\n",
        "weight = float(input('Please enter your weight (in kg) : '))\n",
        "\n",
        "BMI(height,weight)"
      ],
      "metadata": {
        "colab": {
          "base_uri": "https://localhost:8080/"
        },
        "id": "_8uq9TK6l3jt",
        "outputId": "d2b507de-e639-4297-a819-0c80f657b726"
      },
      "execution_count": null,
      "outputs": [
        {
          "output_type": "stream",
          "name": "stdout",
          "text": [
            "Please enter your height (in cm) : 175\n",
            "Please enter your weight (in kg) : 96\n",
            "Score is 31.346938775510203. You are Obese\n"
          ]
        }
      ]
    },
    {
      "cell_type": "code",
      "source": [
        "#funtion 02\n",
        "def divisiblecount(minv,maxv,div) :\n",
        "    sum = 0\n",
        "    for i in range(minv,maxv) :\n",
        "        if i % div == 0 :\n",
        "            sum += i\n",
        "    return sum\n",
        "\n",
        "\n",
        "minv = int(input('Please enter the minimum value : '))\n",
        "maxv = int(input('Please enter the maximum value : '))\n",
        "div = int(input('Please enter the divisor value : '))\n",
        "\n",
        "print(divisiblecount(minv,maxv,div))"
      ],
      "metadata": {
        "colab": {
          "base_uri": "https://localhost:8080/"
        },
        "id": "dNggCd37nrLT",
        "outputId": "d2578d7f-f8e9-42c9-b27b-f1d66fcfcb81"
      },
      "execution_count": null,
      "outputs": [
        {
          "output_type": "stream",
          "name": "stdout",
          "text": [
            "Please enter the minimum value : 0\n",
            "Please enter the maximum value : 10\n",
            "Please enter the divisor value : 2\n",
            "20\n"
          ]
        }
      ]
    },
    {
      "cell_type": "code",
      "source": [
        "#funtion 03\n",
        "menue = {'BBQ Chicken Cheese Burger' : 250, 'Beef Burger' : 170, 'Naga Drums' : 200}\n",
        "\n",
        "\n",
        "def bill_calculate(item, place):\n",
        "    meal_cost = menue[item]\n",
        "    if place == 'Mohakhali':\n",
        "        delivery_charge = 40\n",
        "    else :\n",
        "        delivery_charge = 60\n",
        "    tax = meal_cost * (8/100)\n",
        "    total_price = meal_cost + delivery_charge + tax\n",
        "    return total_price\n",
        "\n",
        "\n",
        "\n",
        "item = input('Please enter the name of the burger : ')\n",
        "place = input('Enter your location: ')\n",
        "output = bill_calculate(item, place)\n",
        "print(output)\n"
      ],
      "metadata": {
        "colab": {
          "base_uri": "https://localhost:8080/"
        },
        "id": "nh8WT6upoJ3F",
        "outputId": "87bc6af4-61be-4ff9-bd5a-67c69c7cff0b"
      },
      "execution_count": null,
      "outputs": [
        {
          "output_type": "stream",
          "name": "stdout",
          "text": [
            "Please enter the name of the burger : Beef Burger\n",
            "Enter your location: dhanmondi\n",
            "243.6\n"
          ]
        }
      ]
    },
    {
      "cell_type": "code",
      "source": [
        "#function 04\n",
        "def pal(user):\n",
        "    jmn = -1\n",
        "    flag = 0\n",
        "    for imn in user:\n",
        "        if imn != user[jmn]:\n",
        "            flag = 1\n",
        "            break\n",
        "        jmn = jmn - 1\n",
        "    if flag == 1:\n",
        "        print(\"Not a palindrome\")\n",
        "    else:\n",
        "        print(\"Palindrome\")\n",
        "user = input()\n",
        "pal(user)\n"
      ],
      "metadata": {
        "colab": {
          "base_uri": "https://localhost:8080/"
        },
        "id": "1xejaAVHqK-Q",
        "outputId": "19e35b45-f929-4662-8a85-0d4c54001f39"
      },
      "execution_count": null,
      "outputs": [
        {
          "output_type": "stream",
          "name": "stdout",
          "text": [
            "libqwwqbil\n",
            "Palindrome\n"
          ]
        }
      ]
    },
    {
      "cell_type": "code",
      "source": [
        "#function 06\n",
        "def capChecker(txt):\n",
        "  stn = ''\n",
        "  for i in range(len(txt)-1):\n",
        "    if txt[abs(i-2)] =='.' or txt[i-2] =='!' or txt[i-2] =='?' or i == 0 or txt[i: i+2] == \"i \"  :\n",
        "      stn= stn + f\"{chr(ord(txt[i])-32)}\"\n",
        "    else:\n",
        "      stn+=txt[i]\n",
        "  return stn\n",
        "inp = input()\n",
        "finalTxt = capChecker(inp)\n",
        "print(finalTxt + inp[-1])"
      ],
      "metadata": {
        "id": "ed4yvd1V2psS"
      },
      "execution_count": null,
      "outputs": []
    }
  ]
}
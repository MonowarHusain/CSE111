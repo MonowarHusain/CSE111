{
  "nbformat": 4,
  "nbformat_minor": 0,
  "metadata": {
    "colab": {
      "provenance": [],
      "authorship_tag": "ABX9TyMmbf14l4hhTyChMXSojWD5"
    },
    "kernelspec": {
      "name": "python3",
      "display_name": "Python 3"
    },
    "language_info": {
      "name": "python"
    }
  },
  "cells": [
    {
      "cell_type": "code",
      "execution_count": 3,
      "metadata": {
        "colab": {
          "base_uri": "https://localhost:8080/"
        },
        "id": "qxn7mp0v5Mrr",
        "outputId": "13e582b7-4cfc-48cc-8b2c-c554a3620706"
      },
      "outputs": [
        {
          "output_type": "stream",
          "name": "stdout",
          "text": [
            "Name: default Department: BBA\n",
            "Name: Humpty Dumpty Department: BBA\n",
            "Name: Little Bo Peep Department: BBA\n"
          ]
        }
      ],
      "source": [
        "## TASK 1 :(\n",
        "\n",
        "class Student:\n",
        "    def __init__(self, name='Just a student', dept='nothing'):\n",
        "        self.__name = name\n",
        "        self.__department = dept\n",
        "    def set_department(self, dept):\n",
        "        self.__department = dept\n",
        "    def get_name(self):\n",
        "        return self.__name\n",
        "    def set_name(self,name):\n",
        "        self.__name = name\n",
        "    def __str__(self):\n",
        "        return 'Name: '+self.__name+' Department: '+self.__department\n",
        "\n",
        "class BBA_Student(Student):\n",
        "    def __init__(self, name= 'default'):\n",
        "        super().__init__(name, 'BBA')\n",
        "#write your code here\n",
        "\n",
        "print(BBA_Student())\n",
        "print(BBA_Student('Humpty Dumpty'))\n",
        "print(BBA_Student('Little Bo Peep'))"
      ]
    },
    {
      "cell_type": "code",
      "source": [
        "# TASK 2\n",
        "\n",
        "class Vehicle:\n",
        "    def __init__(self):\n",
        "        self.x = 0\n",
        "        self.y = 0\n",
        "\n",
        "    def moveUp(self):\n",
        "        self.y += 1\n",
        "\n",
        "    def moveDown(self):\n",
        "        self.y -= 1\n",
        "\n",
        "    def moveRight(self):\n",
        "        self.x += 1\n",
        "\n",
        "    def moveLeft(self):\n",
        "        self.x -= 1\n",
        "\n",
        "    def __str__(self):\n",
        "        return '(' + str(self.x) + ' , ' + str(self.y) + ')'\n",
        "\n",
        "\n",
        "# write your code here\n",
        "\n",
        "class Vehicle2010(Vehicle):\n",
        "    def moveLowerLeft(self):\n",
        "        self.moveDown()\n",
        "        self.moveLeft()\n",
        "\n",
        "    def moveUpperRight(self):\n",
        "        self.moveUp()\n",
        "        self.moveRight()\n",
        "\n",
        "    def moveUpperLeft(self):\n",
        "        self.moveUp()\n",
        "        self.moveLeft()\n",
        "\n",
        "    def moveLowerRight(self):\n",
        "        self.moveLeft()\n",
        "        self.moveRight()\n",
        "\n",
        "    def equals(self, new):\n",
        "        return self.x == new.x and self.y == new.y\n",
        "\n",
        "\n",
        "print('Part 1')\n",
        "print('------')\n",
        "car = Vehicle()\n",
        "print(car)\n",
        "car.moveUp()\n",
        "print(car)\n",
        "car.moveLeft()\n",
        "print(car)\n",
        "car.moveDown()\n",
        "print(car)\n",
        "car.moveRight()\n",
        "print(car)\n",
        "print('------')\n",
        "print('Part 2')\n",
        "print('------')\n",
        "car1 = Vehicle2010()\n",
        "print(car1)\n",
        "car1.moveLowerLeft()\n",
        "print(car1)\n",
        "car2 = Vehicle2010()\n",
        "car2.moveLeft()\n",
        "print(car1.equals(car2))\n",
        "car2.moveDown()\n",
        "print(car1.equals(car2))"
      ],
      "metadata": {
        "colab": {
          "base_uri": "https://localhost:8080/"
        },
        "id": "0amP26uBA8NQ",
        "outputId": "943fba64-73e0-487a-d77f-0d475efae88d"
      },
      "execution_count": 4,
      "outputs": [
        {
          "output_type": "stream",
          "name": "stdout",
          "text": [
            "Part 1\n",
            "------\n",
            "(0 , 0)\n",
            "(0 , 1)\n",
            "(-1 , 1)\n",
            "(-1 , 0)\n",
            "(0 , 0)\n",
            "------\n",
            "Part 2\n",
            "------\n",
            "(0 , 0)\n",
            "(-1 , -1)\n",
            "False\n",
            "True\n"
          ]
        }
      ]
    },
    {
      "cell_type": "code",
      "source": [
        "#TASK 03\n",
        "class Tournament:\n",
        "    def __init__(self,name='Default'):\n",
        "        self.__name = name\n",
        "    def set_name(self,name):\n",
        "        self.__name = name\n",
        "    def get_name(self):\n",
        "        return self.__name\n",
        "\n",
        "#write your code here\n",
        "class Cricket_Tournament(Tournament):\n",
        "    def __init__(self,name = 'Default', teams= 0, type = 'No type'):\n",
        "        super().set_name(name)\n",
        "        self.teams = teams\n",
        "        self.type = type\n",
        "\n",
        "    def detail(self):\n",
        "        return (f\"Cricket Tournament Name: {super().get_name()}\\nNumber of teams: {self.teams}\"\n",
        "              f\"\\nType: {self.type}\")\n",
        "class Tennis_Tournament(Tournament):\n",
        "    def __init__(self, name ='Default',number= 0 ):\n",
        "        super().set_name(name)\n",
        "        self.players = number\n",
        "    def detail(self):\n",
        "        return(f\"Tennis Tournament Name:{super().get_name()}\\n\"\n",
        "               f\"Numebr of players: {self.players}\")\n",
        "\n",
        "ct1 = Cricket_Tournament()\n",
        "print(ct1.detail())\n",
        "print(\"-----------------------\")\n",
        "ct2 = Cricket_Tournament(\"IPL\",10,\"t20\")\n",
        "print(ct2.detail())\n",
        "print(\"-----------------------\")\n",
        "tt = Tennis_Tournament(\"Roland Garros\",128)\n",
        "print(tt.detail())"
      ],
      "metadata": {
        "colab": {
          "base_uri": "https://localhost:8080/"
        },
        "id": "VV-dBMVCBD40",
        "outputId": "0d34cb20-9df4-4b79-833e-7e8d8207eadc"
      },
      "execution_count": 5,
      "outputs": [
        {
          "output_type": "stream",
          "name": "stdout",
          "text": [
            "Cricket Tournament Name: Default\n",
            "Number of teams: 0\n",
            "Type: No type\n",
            "-----------------------\n",
            "Cricket Tournament Name: IPL\n",
            "Number of teams: 10\n",
            "Type: t20\n",
            "-----------------------\n",
            "Tennis Tournament Name:Roland Garros\n",
            "Numebr of players: 128\n"
          ]
        }
      ]
    },
    {
      "cell_type": "code",
      "source": [
        "#TASK 4\n",
        "class Product:\n",
        "    def __init__(self,id, title, price):\n",
        "        self.__id = id\n",
        "        self.__title = title\n",
        "        self.__price = price\n",
        "    def get_id_title_price(self):\n",
        "        return \"ID: \"+str(self.__id)+\" Title:\"+self.__title+        \"Price: \"+str(self.__price)\n",
        "#write your code here\n",
        "class Book(Product):\n",
        "    def __init__(self, id, name, price, isbn, publisher):\n",
        "        super().__init__(id, name, price)\n",
        "        self.isbn = isbn\n",
        "        self.publisher = publisher\n",
        "\n",
        "    def printDetail(self):\n",
        "        return f\"{super().get_id_title_price()} ISBN: {self.isbn} Publisher: {self.publisher}\"\n",
        "\n",
        "class CD(Product):\n",
        "    def __init__(self, id, name, price, band, duration, genre):\n",
        "        super().__init__(id, name, price)\n",
        "        self.band = band\n",
        "        self.duration =duration\n",
        "        self.genre = genre\n",
        "    def printDetail(self):\n",
        "        return f\"{super().get_id_title_price()} Band: {self.band} Duration: {self.duration} Genre: {self.duration}\"\n",
        "book = Book(1,\"The Alchemist\",500,\"97806\",\"HarperCollins\")\n",
        "print(book.printDetail())\n",
        "print(\"-----------------------\")\n",
        "cd = CD(2,\"Shotto\",300,\"Warfaze\",50,\"Hard Rock\")\n",
        "print(cd.printDetail())"
      ],
      "metadata": {
        "colab": {
          "base_uri": "https://localhost:8080/"
        },
        "id": "QzSCdCGbBNqy",
        "outputId": "98690bcc-a252-44df-8157-9635b7abd409"
      },
      "execution_count": 6,
      "outputs": [
        {
          "output_type": "stream",
          "name": "stdout",
          "text": [
            "ID: 1 Title:The AlchemistPrice: 500 ISBN: 97806 Publisher: HarperCollins\n",
            "-----------------------\n",
            "ID: 2 Title:ShottoPrice: 300 Band: Warfaze Duration: 50 Genre: 50\n"
          ]
        }
      ]
    },
    {
      "cell_type": "code",
      "source": [
        "#task 05\n",
        "class Animal:\n",
        "    def __init__(self, sound):\n",
        "        self.__sound = sound\n",
        "\n",
        "    def makeSound(self):\n",
        "        return self.__sound\n",
        "\n",
        "\n",
        "class Printer:\n",
        "    def printSound(self, a):\n",
        "        print(a.makeSound())\n",
        "\n",
        "\n",
        "# write your code here\n",
        "class Dog(Animal):\n",
        "    pass\n",
        "class Cat(Animal):\n",
        "    pass\n",
        "\n",
        "d1 = Dog('bark')\n",
        "c1 = Cat('meow')\n",
        "a1 = Animal('Animal does not make sound')\n",
        "pr = Printer()\n",
        "pr.printSound(a1)\n",
        "pr.printSound(c1)\n",
        "pr.printSound(d1)"
      ],
      "metadata": {
        "colab": {
          "base_uri": "https://localhost:8080/"
        },
        "id": "FuNE4oCaBOXH",
        "outputId": "3cfd52de-f26e-4c3d-df21-dfc9b3958ed8"
      },
      "execution_count": 7,
      "outputs": [
        {
          "output_type": "stream",
          "name": "stdout",
          "text": [
            "Animal does not make sound\n",
            "meow\n",
            "bark\n"
          ]
        }
      ]
    },
    {
      "cell_type": "code",
      "source": [
        "#TASK 06\n",
        "class Shape:\n",
        "\n",
        "    def __init__(self, name='Default', height=0, base=0):\n",
        "        self.area = 0\n",
        "        self.name = name\n",
        "        self.height = height\n",
        "        self.base = base\n",
        "\n",
        "    def get_height_base(self):\n",
        "        return \"Height: \"+str(self.height)+\",Base: \"+str(self.base)\n",
        "\n",
        "#write your code here\n",
        "class triangle(Shape):\n",
        "    def calcArea(self):\n",
        "        height = self.height\n",
        "        base = self.base\n",
        "        area = .5 * height * base\n",
        "        self.area = area\n",
        "\n",
        "    def printDetail(self):\n",
        "        return f\"{super().get_height_base()}\\nArea: {self.area}\"\n",
        "class trapezoid(Shape):\n",
        "    def __init__(self,name = 'Default', h = 0, b = 0, A = 0):\n",
        "        super().__init__(name, h, b)\n",
        "        self.side_A = A\n",
        "\n",
        "    def calcArea(self):\n",
        "        self.area = ((self.side_A + self.base)/2) * self.height\n",
        "\n",
        "    def printDetail(self):\n",
        "        return f\"{super().get_height_base()} Side_A: {self.side_A}\\nArea: {self.area}\"\n",
        "\n",
        "\n",
        "tri_default = triangle()\n",
        "tri_default.calcArea()\n",
        "print(tri_default.printDetail())\n",
        "print('--------------------------')\n",
        "tri = triangle('Triangle', 10, 5)\n",
        "tri.calcArea()\n",
        "print(tri.printDetail())\n",
        "print('---------------------------')\n",
        "trap = trapezoid('Trapezoid', 10, 6, 4)\n",
        "trap.calcArea()\n",
        "print(trap.printDetail())"
      ],
      "metadata": {
        "colab": {
          "base_uri": "https://localhost:8080/"
        },
        "id": "GeFH40iDBez_",
        "outputId": "1fbdbc7c-e5c4-4bb5-ba86-71ea6d92d6c4"
      },
      "execution_count": 10,
      "outputs": [
        {
          "output_type": "stream",
          "name": "stdout",
          "text": [
            "Height: 0,Base: 0\n",
            "Area: 0.0\n",
            "--------------------------\n",
            "Height: 10,Base: 5\n",
            "Area: 25.0\n",
            "---------------------------\n",
            "Height: 10,Base: 6 Side_A: 4\n",
            "Area: 50.0\n"
          ]
        }
      ]
    },
    {
      "cell_type": "code",
      "source": [
        "# TASK 7\n",
        "\n",
        "class SportsPerson:\n",
        "\n",
        "  def __init__(self, team_name, name, role):\n",
        "    self.__team = team_name\n",
        "    self.__name = name\n",
        "    self.role = role\n",
        "    self.earning_per_match = 0\n",
        "\n",
        "  def get_name_team(self):\n",
        "    return 'Name: '+self.__name+', Team Name: ' +self.__team\n",
        "\n",
        "#write your code here\n",
        "class Player(SportsPerson):\n",
        "  def __init__(self, club, player, role, goal, match):\n",
        "    super().__init__(club, player, role)\n",
        "    self.goal = goal\n",
        "    self.match = match\n",
        "    self.ratio = 0\n",
        "    self.earning_per_match = (goal * 1000)+ (match * 10)\n",
        "  def calculate_ratio(self):\n",
        "    self.ratio = self.goal / self.match\n",
        "  def print_details(self):\n",
        "    print(f\"{super().get_name_team()}\\nTeam Role: {self.role}\\nTotal Goal:{self.goal}\\nTotal Played: {self.match}\"\n",
        "            f\"\\nGoal Ratio: {self.ratio}\\n Match Earning: {self.earning_per_match}k\")\n",
        "\n",
        "class Manager(SportsPerson):\n",
        "  def __init__(self, club, manager, role, match):\n",
        "    super().__init__(club, manager, role)\n",
        "    self.match = match\n",
        "    self.earning_per_match = match * 1000\n",
        "  def print_details(self):\n",
        "    print (f\"{super().get_name_team()}\\nTeam Role: {self.role}\\nTotal Win: {self.match}\\nMatch Earning: {self.earning_per_match}\")\n",
        "\n",
        "player_one = Player('Juventus', 'Ronaldo', 'Striker', 25, 32)\n",
        "player_one.calculate_ratio()\n",
        "player_one.print_details()\n",
        "print('------------------------------------------')\n",
        "manager_one = Manager('Real Madrid', 'Zidane', 'Manager', 25)\n",
        "manager_one.print_details()"
      ],
      "metadata": {
        "colab": {
          "base_uri": "https://localhost:8080/"
        },
        "id": "pebI9ReGBhL3",
        "outputId": "d00a235b-decc-4e99-bcbb-32c3e6012f58"
      },
      "execution_count": 11,
      "outputs": [
        {
          "output_type": "stream",
          "name": "stdout",
          "text": [
            "Name: Ronaldo, Team Name: Juventus\n",
            "Team Role: Striker\n",
            "Total Goal:25\n",
            "Total Played: 32\n",
            "Goal Ratio: 0.78125\n",
            " Match Earning: 25320k\n",
            "------------------------------------------\n",
            "Name: Zidane, Team Name: Real Madrid\n",
            "Team Role: Manager\n",
            "Total Win: 25\n",
            "Match Earning: 25000\n"
          ]
        }
      ]
    }
  ]
}